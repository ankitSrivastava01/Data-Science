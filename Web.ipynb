{
 "cells": [
  {
   "cell_type": "code",
   "execution_count": 1,
   "metadata": {},
   "outputs": [
    {
     "data": {
      "application/vnd.jupyter.widget-view+json": {
       "model_id": "071e3218f3204b1ca0af3e3527a6a31d",
       "version_major": 2,
       "version_minor": 0
      },
      "text/plain": [
       "VBox(children=(HBox(children=(Label(value='Select number of games'), IntSlider(value=10, min=10))), HBox(child…"
      ]
     },
     "metadata": {},
     "output_type": "display_data"
    }
   ],
   "source": [
    "\n",
    "import time\n",
    "import random\n",
    "import matplotlib.pyplot as plt\n",
    "from IPython import display\n",
    "import ipywidgets as widgets\n",
    "# method\n",
    "\n",
    "def start_game(event):\n",
    "    button.description = 'STOP Simulation'\n",
    "    button.button_style='danger' \n",
    "    button.disabled=True\n",
    "    slider.disabled=True\n",
    "    progress.max = slider.value\n",
    "    \n",
    "    head = 0\n",
    "    tail = 0\n",
    "\n",
    "    NUMBER_OF_SIMULATION = slider.value\n",
    "    \n",
    "    for i in range(NUMBER_OF_SIMULATION):\n",
    "    \n",
    "        rn = random.randint(0, 1)\n",
    "\n",
    "        if rn == 1:\n",
    "            head += 1\n",
    "        else:\n",
    "            tail += 1\n",
    "\n",
    "        plt.clf() # clear old data on plot\n",
    "        plt.bar((0,1), (head, tail))\n",
    "        plt.xticks((0, 1), ('head', 'tail'))\n",
    "        plt.ylabel('Number of')\n",
    "        plt.title('Coin toss game {}/{}'.format(i+1, NUMBER_OF_SIMULATION))\n",
    "        plt.text(-0.3, 1, '{} - {:.2f}%'.format(head, head/(head+tail)*100), {'size': 16})\n",
    "        plt.text(+0.7, 1, '{} - {:.2f}%'.format(tail, tail/(head+tail)*100), {'size': 16})\n",
    "        display.clear_output(wait=True)  # to have only one picture\n",
    "        display.display(plt.gcf())       # as plt.show()\n",
    "\n",
    "        label2.value = '%s / %s' % (i+1, NUMBER_OF_SIMULATION)\n",
    "        progress.value += 1\n",
    "        \n",
    "        time.sleep(0.1)\n",
    "    else:\n",
    "        display.clear_output(wait=True) # cleat it\n",
    "    \n",
    "    button.description = 'Start Simulation'\n",
    "    button.button_style='info'\n",
    "    slider.disabled=False\n",
    "    button.disabled=False\n",
    "    progress.value = 0\n",
    "    label2.value = ''\n",
    "    \n",
    "    display.display(ui, plt.gcf()) # then show UI and last chart\n",
    "    # there is some BUG and I get last chart 2x times\n",
    "    \n",
    "    \n",
    "# UI\n",
    "slider = widgets.IntSlider(min=10, max=100, value=5)\n",
    "label = widgets.Label(value='Select number of games')\n",
    "\n",
    "button = widgets.Button(description='Start Simulation', button_style='info', tooltip='Start Game')\n",
    "progress = widgets.IntProgress(description='Progress:')\n",
    "label2 = widgets.Label()\n",
    "\n",
    "# Interactions\n",
    "button.on_click(start_game)\n",
    "\n",
    "# UI Layout\n",
    "top_box = widgets.HBox([label, slider])\n",
    "down_box = widgets.HBox([button, progress, label2])\n",
    "ui = widgets.VBox([top_box, down_box]) \n",
    "display.display(ui)"
   ]
  },
  {
   "cell_type": "code",
   "execution_count": null,
   "metadata": {},
   "outputs": [],
   "source": [
    "tab_contents = ['P0', 'P1', 'P2', 'P3', 'P4']\n",
    "children = [widgets.Text(description=name) for name in tab_contents]\n",
    "tab = widgets.Tab()\n",
    "tab.children = children\n",
    "for i in range(len(children)):\n",
    "    tab.set_title(i, str(i))\n",
    "tab"
   ]
  }
 ],
 "metadata": {
  "kernelspec": {
   "display_name": "Python 3",
   "language": "python",
   "name": "python3"
  },
  "language_info": {
   "codemirror_mode": {
    "name": "ipython",
    "version": 3
   },
   "file_extension": ".py",
   "mimetype": "text/x-python",
   "name": "python",
   "nbconvert_exporter": "python",
   "pygments_lexer": "ipython3",
   "version": "3.6.5"
  }
 },
 "nbformat": 4,
 "nbformat_minor": 2
}
