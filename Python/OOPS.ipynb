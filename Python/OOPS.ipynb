{
 "cells": [
  {
   "cell_type": "code",
   "execution_count": 2,
   "metadata": {},
   "outputs": [
    {
     "name": "stdout",
     "output_type": "stream",
     "text": [
      "Hello\n"
     ]
    }
   ],
   "source": [
    "# A simple example class\n",
    "class Test:\n",
    "     \n",
    "    # A sample method \n",
    "    def fun(self):\n",
    "        print(\"Hello\")\n",
    " \n",
    "# Driver code\n",
    "obj = Test()\n",
    "obj.fun()"
   ]
  },
  {
   "cell_type": "markdown",
   "metadata": {},
   "source": [
    "\n",
    "\n",
    "# Inheri.........."
   ]
  },
  {
   "cell_type": "code",
   "execution_count": 1,
   "metadata": {},
   "outputs": [
    {
     "name": "stdout",
     "output_type": "stream",
     "text": [
      "Geek1 False\n",
      "Geek2 True\n"
     ]
    }
   ],
   "source": [
    "# A Python program to demonstrate inheritance \n",
    " \n",
    "# Base or Super class. Note object in bracket.\n",
    "# (Generally, object is made ancestor of all classes)\n",
    "# In Python 3.x \"class Person\" is \n",
    "# equivalent to \"class Person(object)\"\n",
    "class Person(object):\n",
    "     \n",
    "    # Constructor\n",
    "    def __init__(self, name):\n",
    "        self.name = name\n",
    " \n",
    "    # To get name\n",
    "    def getName(self):\n",
    "        return self.name\n",
    " \n",
    "    # To check if this person is employee\n",
    "    def isEmployee(self):\n",
    "        return False\n",
    " \n",
    " \n",
    "# Inherited or Sub class (Note Person in bracket)\n",
    "class Employee(Person):\n",
    " \n",
    "    # Here we return true\n",
    "    def isEmployee(self):\n",
    "        return True\n",
    " \n",
    "# Driver code\n",
    "emp = Person(\"Geek1\")  # An Object of Person\n",
    "print(emp.getName(), emp.isEmployee())\n",
    " \n",
    "emp = Employee(\"Geek2\") # An Object of Employee\n",
    "print(emp.getName(), emp.isEmployee())"
   ]
  },
  {
   "cell_type": "code",
   "execution_count": 6,
   "metadata": {},
   "outputs": [
    {
     "name": "stdout",
     "output_type": "stream",
     "text": [
      "True\n",
      "False\n",
      "False\n",
      "True\n"
     ]
    }
   ],
   "source": [
    "# Python example to check if a class is\n",
    "# subclass of another\n",
    " \n",
    "class Base(object):\n",
    "    pass   # Empty Class\n",
    " \n",
    "class Derived(Base):\n",
    "    pass   # Empty Class\n",
    " \n",
    "# Driver Code\n",
    "print(issubclass(Derived, Base))\n",
    "print(issubclass(Base, Derived))\n",
    " \n",
    "d = Derived()\n",
    "b = Base()\n",
    " \n",
    "# b is not an instance of Derived\n",
    "print(isinstance(b, Derived))\n",
    " \n",
    "# But d is an instance of Base\n",
    "print(isinstance(d, Base))"
   ]
  },
  {
   "cell_type": "code",
   "execution_count": 15,
   "metadata": {},
   "outputs": [
    {
     "name": "stdout",
     "output_type": "stream",
     "text": [
      "bas1\n",
      "base2 \n",
      "Geek1 Geek2\n",
      "base 2 method\n"
     ]
    }
   ],
   "source": [
    "#Does Python support Multiple Inheritance?\n",
    "#Unlike Java and like C++, Python supports multiple inheritance. We specify all parent classes as comma separated list in bracket.\n",
    "\n",
    "# Python example to show working of multiple \n",
    "# inheritance\n",
    "class Base1(object):\n",
    "    def __init__(self):\n",
    "        self.str1 = \"Geek1\"\n",
    "        print (\"bas1\")\n",
    " \n",
    "    def a(self):\n",
    "        print(\"base 1 method\")\n",
    "class Base2(object):\n",
    "    def __init__(self):\n",
    "        self.str2 = \"Geek2\"       \n",
    "        print (\"base2 \")\n",
    "    def a(self):\n",
    "        print(\"base 2 method\")\n",
    " \n",
    "class Derived(Base2, Base1):\n",
    "    def __init__(self):\n",
    "         \n",
    "        # Calling constructors of Base1\n",
    "        # and Base2 classes\n",
    "        Base1.__init__(self)\n",
    "        Base2.__init__(self)\n",
    "        \n",
    "    \n",
    "    def printStrs(self):\n",
    "        print(self.str1, self.str2)\n",
    "        \n",
    "        \n",
    " \n",
    "ob = Derived()\n",
    "ob.printStrs()\n",
    "ob.a()"
   ]
  },
  {
   "cell_type": "code",
   "execution_count": 25,
   "metadata": {},
   "outputs": [
    {
     "name": "stdout",
     "output_type": "stream",
     "text": [
      "20 20\n"
     ]
    }
   ],
   "source": [
    "# Python example to show that base\n",
    "# class members can be accessed in\n",
    "# derived class using base class name\n",
    "class Base(object):\n",
    " \n",
    "    # Constructor\n",
    "    def __init__(self, x):\n",
    "        self.x = x    \n",
    " \n",
    "class Derived(Base):\n",
    " \n",
    "    # Constructor\n",
    "    def __init__(self, x, y):\n",
    "        Base.x = x \n",
    "        self.y = y\n",
    "        self.x=y\n",
    " \n",
    "    def printXY(self):\n",
    "      \n",
    "       # print(self.x, self.y) will also work\n",
    "       print(self.x, self.y)\n",
    " \n",
    " \n",
    "# Driver Code\n",
    "d = Derived(10, 20)\n",
    "d.printXY()"
   ]
  },
  {
   "cell_type": "code",
   "execution_count": 23,
   "metadata": {},
   "outputs": [
    {
     "name": "stdout",
     "output_type": "stream",
     "text": [
      "2\n",
      "7\n"
     ]
    },
    {
     "ename": "AttributeError",
     "evalue": "'MyClass' object has no attribute '__hiddenVariable'",
     "output_type": "error",
     "traceback": [
      "\u001b[1;31m---------------------------------------------------------------------------\u001b[0m",
      "\u001b[1;31mAttributeError\u001b[0m                            Traceback (most recent call last)",
      "\u001b[1;32m<ipython-input-23-720d4efb7002>\u001b[0m in \u001b[0;36m<module>\u001b[1;34m()\u001b[0m\n\u001b[0;32m     19\u001b[0m \u001b[1;33m\u001b[0m\u001b[0m\n\u001b[0;32m     20\u001b[0m \u001b[1;31m# This line causes error\u001b[0m\u001b[1;33m\u001b[0m\u001b[1;33m\u001b[0m\u001b[0m\n\u001b[1;32m---> 21\u001b[1;33m \u001b[0mprint\u001b[0m \u001b[1;33m(\u001b[0m\u001b[0mmyObject\u001b[0m\u001b[1;33m.\u001b[0m\u001b[0m__hiddenVariable\u001b[0m\u001b[1;33m)\u001b[0m\u001b[1;33m\u001b[0m\u001b[0m\n\u001b[0m\u001b[0;32m     22\u001b[0m \u001b[1;33m\u001b[0m\u001b[0m\n\u001b[0;32m     23\u001b[0m \u001b[1;33m\u001b[0m\u001b[0m\n",
      "\u001b[1;31mAttributeError\u001b[0m: 'MyClass' object has no attribute '__hiddenVariable'"
     ]
    }
   ],
   "source": [
    "#Data hiding\n",
    "\n",
    "#In Python, we use double underscore (Or __) before the attributes name and those attributes will not be directly visible outside.\n",
    "class MyClass:\n",
    " \n",
    "    # Hidden member of MyClass\n",
    "    __hiddenVariable = 0\n",
    "   \n",
    "    # A member method that changes \n",
    "    # __hiddenVariable \n",
    "    def add(self, increment):\n",
    "        self.__hiddenVariable += increment\n",
    "        print (self.__hiddenVariable)\n",
    "  \n",
    "# Driver code\n",
    "myObject = MyClass()     \n",
    "myObject.add(2)\n",
    "myObject.add(5)\n",
    " \n",
    "# This line causes error\n",
    "print (myObject.__hiddenVariable)\n",
    "\n",
    "\n"
   ]
  },
  {
   "cell_type": "code",
   "execution_count": 26,
   "metadata": {},
   "outputs": [
    {
     "name": "stdout",
     "output_type": "stream",
     "text": [
      "10\n"
     ]
    }
   ],
   "source": [
    "# A Python program to demonstrate that hidden\n",
    "# members can be accessed outside a class\n",
    "class MyClass:\n",
    " \n",
    "    # Hidden member of MyClass\n",
    "    __hiddenVariable = 10\n",
    " \n",
    "# Driver code\n",
    "myObject = MyClass()     \n",
    "print(myObject._MyClass__hiddenVariable)"
   ]
  },
  {
   "cell_type": "code",
   "execution_count": 9,
   "metadata": {},
   "outputs": [],
   "source": [
    "class car:\n",
    "    wheel=4\n",
    "    def __init__(self,n):\n",
    "        print(n*self.wheel)\n",
    "        \n",
    "    def setprice(self,p):\n",
    "        self.price=p\n",
    "        "
   ]
  },
  {
   "cell_type": "code",
   "execution_count": 7,
   "metadata": {},
   "outputs": [
    {
     "ename": "NameError",
     "evalue": "name 'wheel' is not defined",
     "output_type": "error",
     "traceback": [
      "\u001b[1;31m---------------------------------------------------------------------------\u001b[0m",
      "\u001b[1;31mNameError\u001b[0m                                 Traceback (most recent call last)",
      "\u001b[1;32m<ipython-input-7-3ef5ad4729fa>\u001b[0m in \u001b[0;36m<module>\u001b[1;34m()\u001b[0m\n\u001b[1;32m----> 1\u001b[1;33m \u001b[0mg\u001b[0m\u001b[1;33m=\u001b[0m\u001b[0mcar\u001b[0m\u001b[1;33m(\u001b[0m\u001b[1;36m2\u001b[0m\u001b[1;33m)\u001b[0m\u001b[1;33m\u001b[0m\u001b[0m\n\u001b[0m\u001b[0;32m      2\u001b[0m \u001b[0mg\u001b[0m\u001b[1;33m.\u001b[0m\u001b[0msetprice\u001b[0m\u001b[1;33m(\u001b[0m\u001b[1;36m1\u001b[0m\u001b[1;33m)\u001b[0m\u001b[1;33m\u001b[0m\u001b[0m\n\u001b[0;32m      3\u001b[0m \u001b[0mg\u001b[0m\u001b[1;33m.\u001b[0m\u001b[0mprice\u001b[0m\u001b[1;33m\u001b[0m\u001b[0m\n",
      "\u001b[1;32m<ipython-input-6-a4cd7e79ce10>\u001b[0m in \u001b[0;36m__init__\u001b[1;34m(self, n)\u001b[0m\n\u001b[0;32m      2\u001b[0m     \u001b[0mwheel\u001b[0m\u001b[1;33m=\u001b[0m\u001b[1;36m4\u001b[0m\u001b[1;33m\u001b[0m\u001b[0m\n\u001b[0;32m      3\u001b[0m     \u001b[1;32mdef\u001b[0m \u001b[0m__init__\u001b[0m\u001b[1;33m(\u001b[0m\u001b[0mself\u001b[0m\u001b[1;33m,\u001b[0m\u001b[0mn\u001b[0m\u001b[1;33m)\u001b[0m\u001b[1;33m:\u001b[0m\u001b[1;33m\u001b[0m\u001b[0m\n\u001b[1;32m----> 4\u001b[1;33m         \u001b[0mprint\u001b[0m\u001b[1;33m(\u001b[0m\u001b[0mn\u001b[0m\u001b[1;33m*\u001b[0m\u001b[0mwheel\u001b[0m\u001b[1;33m)\u001b[0m\u001b[1;33m\u001b[0m\u001b[0m\n\u001b[0m\u001b[0;32m      5\u001b[0m \u001b[1;33m\u001b[0m\u001b[0m\n\u001b[0;32m      6\u001b[0m     \u001b[1;32mdef\u001b[0m \u001b[0msetprice\u001b[0m\u001b[1;33m(\u001b[0m\u001b[0mself\u001b[0m\u001b[1;33m,\u001b[0m\u001b[0mp\u001b[0m\u001b[1;33m)\u001b[0m\u001b[1;33m:\u001b[0m\u001b[1;33m\u001b[0m\u001b[0m\n",
      "\u001b[1;31mNameError\u001b[0m: name 'wheel' is not defined"
     ]
    }
   ],
   "source": [
    "g=car(2)\n",
    "g.setprice(1)\n",
    "g.price"
   ]
  }
 ],
 "metadata": {
  "kernelspec": {
   "display_name": "Python 3",
   "language": "python",
   "name": "python3"
  },
  "language_info": {
   "codemirror_mode": {
    "name": "ipython",
    "version": 3
   },
   "file_extension": ".py",
   "mimetype": "text/x-python",
   "name": "python",
   "nbconvert_exporter": "python",
   "pygments_lexer": "ipython3",
   "version": "3.6.4"
  }
 },
 "nbformat": 4,
 "nbformat_minor": 2
}
