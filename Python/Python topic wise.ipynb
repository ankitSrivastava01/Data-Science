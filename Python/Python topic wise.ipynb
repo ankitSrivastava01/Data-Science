{
 "cells": [
  {
   "cell_type": "markdown",
   "metadata": {
    "collapsed": true
   },
   "source": [
    "https://stackoverflow.com/questions/419163/what-does-if-name-main-do\n",
    "\n",
    "https://www.guru99.com/python-tutorials.html\n",
    "\n",
    "basic\n"
   ]
  },
  {
   "cell_type": "code",
   "execution_count": 6,
   "metadata": {},
   "outputs": [
    {
     "data": {
      "text/plain": [
       "dict"
      ]
     },
     "execution_count": 6,
     "metadata": {},
     "output_type": "execute_result"
    }
   ],
   "source": [
    "#Switch Case in Python (Replacement)\n",
    "#What is the replacement of Switch Case in Python ?\n",
    "\n",
    "switcher = {\n",
    "        0: 'zero',\n",
    "        1: \"one\",\n",
    "        2: \"two\",\n",
    "    }\n",
    "\n",
    "switcher.get(9, \"nothing\")\n",
    "type(switcher)"
   ]
  },
  {
   "cell_type": "code",
   "execution_count": 12,
   "metadata": {},
   "outputs": [
    {
     "data": {
      "text/plain": [
       "'nothing'"
      ]
     },
     "execution_count": 12,
     "metadata": {},
     "output_type": "execute_result"
    }
   ],
   "source": [
    "a={}\n",
    "a[0]=1\n",
    "a[1]=2\n",
    "a[2]=3\n",
    "a.get(8,'nothing')"
   ]
  },
  {
   "cell_type": "code",
   "execution_count": 13,
   "metadata": {},
   "outputs": [
    {
     "name": "stdout",
     "output_type": "stream",
     "text": [
      "0\n",
      "1\n",
      "2\n",
      "3\n",
      "4\n"
     ]
    }
   ],
   "source": [
    "for i in range(5):\n",
    "    for j in range(5):\n",
    "        if(j==3):\n",
    "         pass\n",
    "            \n",
    "        print(j)\n",
    "    break"
   ]
  },
  {
   "cell_type": "markdown",
   "metadata": {},
   "source": [
    "# special function"
   ]
  },
  {
   "cell_type": "code",
   "execution_count": 14,
   "metadata": {},
   "outputs": [
    {
     "name": "stdout",
     "output_type": "stream",
     "text": [
      "dict_items([(1, 5), (3, 4), (4, 3), (2, 2), (5, 3)])\n"
     ]
    }
   ],
   "source": [
    "\n",
    "# Code to find top 3 elements and their counts\n",
    "# using most_common\n",
    "from collections import Counter\n",
    " \n",
    "arr = [1, 3, 4, 1, 2, 1, 1, 3, 4, 3, 5, 1, 2, 5, 3, 4, 5]\n",
    "dict = Counter(arr)\n",
    "print(dict.items())\n"
   ]
  },
  {
   "cell_type": "code",
   "execution_count": 8,
   "metadata": {},
   "outputs": [
    {
     "name": "stdout",
     "output_type": "stream",
     "text": [
      "[110, 95, 90]\n",
      "[20, 25, 33, 38]\n"
     ]
    }
   ],
   "source": [
    "# Python code to find 3 largest and 4 smallest\n",
    "# elements of a list.\n",
    "import heapq\n",
    " \n",
    "grades = [110, 25, 38, 49, 20, 95, 33, 87, 80, 90]\n",
    "print(heapq.nlargest(3, grades))\n",
    "print(heapq.nsmallest(4, grades))"
   ]
  },
  {
   "cell_type": "code",
   "execution_count": 15,
   "metadata": {},
   "outputs": [
    {
     "name": "stdout",
     "output_type": "stream",
     "text": [
      "[(0, 'AMZN'), (0, 'Goog'), (39.28, 'yhoo'), (76.45, 'FB'), (99.76, 'APPL')]\n",
      "[('AMZN', 0), ('APPL', 99.76), ('FB', 76.45), ('Goog', 0), ('yhoo', 39.28)]\n",
      "['AMZN', 'APPL', 'FB', 'Goog', 'yhoo']\n"
     ]
    }
   ],
   "source": [
    "stocks = {\n",
    "    'Goog' : 0,\n",
    "    'FB' : 76.45,\n",
    "    'yhoo' : 39.28,\n",
    "    'AMZN' : 0,\n",
    "    'APPL' : 99.76\n",
    "    \n",
    "    \n",
    "    \n",
    "    }\n",
    " \n",
    "zipped_1 = zip(stocks.values(), stocks.keys())\n",
    " \n",
    "# sorting according to values\n",
    "print(sorted(zipped_1))\n",
    " \n",
    "zipped_2 =zip(stocks.keys(), stocks.values())\n",
    "print(sorted(zipped_2))\n",
    "#sorting according to keys\n",
    "\n",
    "\n",
    "\n",
    "#sorting according to keys list\n",
    "print(sorted(stocks))\n"
   ]
  },
  {
   "cell_type": "code",
   "execution_count": 16,
   "metadata": {},
   "outputs": [
    {
     "name": "stdout",
     "output_type": "stream",
     "text": [
      "() {}\n",
      "(1, 2, 3) {}\n",
      "(1, 2, 3, 'groovy') {}\n",
      "() {'a': 1, 'b': 2, 'c': 3}\n",
      "() {'a': 1, 'b': 2, 'c': 3, 'zzz': 'hi'}\n",
      "(1, 2, 3) {'a': 1, 'b': 2, 'c': 3}\n"
     ]
    }
   ],
   "source": [
    "#Use *args when we aren't sure how many arguments are going to be passed to a function, \n",
    "#or if we want to pass a stored list or tuple of arguments to a function. \n",
    "\n",
    "#**kwargs is used when we dont know how many keyword arguments will be passed to a function,\n",
    "#or it can be used to pass the values of a dictionary as keyword arguments.\n",
    "\n",
    "def f(*args,**kwargs): \n",
    "    print(args, kwargs)\n",
    "\n",
    "\n",
    "\n",
    "f()\n",
    "f(1,2,3)                    # (1, 2, 3) {}\n",
    "f(1,2,3,\"groovy\")           # (1, 2, 3, 'groovy') {}\n",
    "f(a=1,b=2,c=3)              # () {'a': 1, 'c': 3, 'b': 2}\n",
    "f(a=1,b=2,c=3,zzz=\"hi\")     # () {'a': 1, 'c': 3, 'b': 2, 'zzz': 'hi'}\n",
    "f(1,2,3,a=1,b=2,c=3)        # (1, 2, 3) {'a': 1, 'c': 3, 'b': 2}\n"
   ]
  },
  {
   "cell_type": "markdown",
   "metadata": {},
   "source": [
    "# map filter reduce"
   ]
  },
  {
   "cell_type": "markdown",
   "metadata": {},
   "source": []
  },
  {
   "cell_type": "code",
   "execution_count": 18,
   "metadata": {},
   "outputs": [
    {
     "name": "stdout",
     "output_type": "stream",
     "text": [
      "[20, 60, 150]\n"
     ]
    }
   ],
   "source": [
    "# Python code to apply a function on a list\n",
    "income = [10, 30, 75]\n",
    " \n",
    "def double_money(dollars):\n",
    "    return dollars * 2\n",
    " \n",
    "new_income = list(map(double_money, income))\n",
    "print(new_income)"
   ]
  },
  {
   "cell_type": "code",
   "execution_count": 19,
   "metadata": {},
   "outputs": [
    {
     "data": {
      "text/plain": [
       "[44, 5, 5, 32]"
      ]
     },
     "execution_count": 19,
     "metadata": {},
     "output_type": "execute_result"
    }
   ],
   "source": [
    "#filter\n",
    "lis=[1,2,3,1,2,3,44,5,5,3,32,2] \n",
    "list(filter(lambda x:x>4,lis))"
   ]
  },
  {
   "cell_type": "code",
   "execution_count": 22,
   "metadata": {},
   "outputs": [
    {
     "data": {
      "text/plain": [
       "6"
      ]
     },
     "execution_count": 22,
     "metadata": {},
     "output_type": "execute_result"
    }
   ],
   "source": [
    "#reduce\n",
    "from functools import reduce\n",
    "product = reduce(lambda x, y: x *y, [3, 2, 1, 1])\n",
    "product"
   ]
  },
  {
   "cell_type": "markdown",
   "metadata": {},
   "source": [
    "# Python - Files I/O"
   ]
  },
  {
   "cell_type": "code",
   "execution_count": 23,
   "metadata": {},
   "outputs": [
    {
     "name": "stdout",
     "output_type": "stream",
     "text": [
      "Enter your input: 1 2 1\n",
      "Received input is :  1 2 1\n"
     ]
    }
   ],
   "source": [
    "str = input(\"Enter your input: \");\n",
    "print( \"Received input is : \", str)  "
   ]
  },
  {
   "cell_type": "code",
   "execution_count": 24,
   "metadata": {},
   "outputs": [
    {
     "name": "stdout",
     "output_type": "stream",
     "text": [
      "1 2\n",
      "12\n",
      "12 3\n",
      "1 1\n",
      "[(1, 2), (12,), (12, 3), (1, 1)]\n"
     ]
    }
   ],
   "source": [
    "n=4\n",
    "li=[]\n",
    "for i in range(n):\n",
    "   li.append(tuple(map(int,list(input().split(' ')))))\n",
    "print(li)\n"
   ]
  },
  {
   "cell_type": "code",
   "execution_count": null,
   "metadata": {},
   "outputs": [],
   "source": [
    "set(tuple(map(int,list(input().split(' ')))))\n"
   ]
  },
  {
   "cell_type": "code",
   "execution_count": null,
   "metadata": {},
   "outputs": [],
   "source": [
    "#str"
   ]
  },
  {
   "cell_type": "code",
   "execution_count": 11,
   "metadata": {},
   "outputs": [
    {
     "data": {
      "text/plain": [
       "int"
      ]
     },
     "execution_count": 11,
     "metadata": {},
     "output_type": "execute_result"
    }
   ],
   "source": [
    "#Which of the following function convert a String to an object in python?\n",
    "a=['9']\n",
    "type(eval(a[0]))"
   ]
  },
  {
   "cell_type": "markdown",
   "metadata": {},
   "source": [
    "# list"
   ]
  },
  {
   "cell_type": "code",
   "execution_count": 28,
   "metadata": {},
   "outputs": [
    {
     "name": "stdout",
     "output_type": "stream",
     "text": [
      "1|2|3|4|5\n",
      "printing lists separated by commas\n",
      "1, 2, 3, 4, 5\n",
      "printing lists in new line\n",
      "1\n",
      "2\n",
      "3\n",
      "4\n",
      "5\n"
     ]
    }
   ],
   "source": [
    "#Without using loops: * symbol is use to print the list elements in a single line with space. To print all elements in new lines or separated by space use sep=”\\n” or sep=”, ” respectively.\n",
    "# Python program to print list\n",
    "# without using loop\n",
    " \n",
    "a = [1, 2, 3, 4, 5]\n",
    " \n",
    "# printing the list using * operator separated \n",
    "# by space \n",
    "print(*a,sep=\"|\")\n",
    " \n",
    "# printing the list using * and sep operator\n",
    "print(\"printing lists separated by commas\")\n",
    " \n",
    "print(*a, sep = \", \") \n",
    " \n",
    "# print in new line\n",
    "print(\"printing lists in new line\")\n",
    " \n",
    "print(*a, sep = \"\\n\")\n",
    "a."
   ]
  },
  {
   "cell_type": "code",
   "execution_count": 3,
   "metadata": {},
   "outputs": [
    {
     "name": "stdout",
     "output_type": "stream",
     "text": [
      "Geeks,for,Geeks\n",
      "GeeksforGeeks\n"
     ]
    },
    {
     "data": {
      "text/plain": [
       "['s', 'd', 'f', 'g', 'h']"
      ]
     },
     "execution_count": 3,
     "metadata": {},
     "output_type": "execute_result"
    }
   ],
   "source": [
    "# Python program to print list\n",
    "# by Converting a list to a \n",
    "# string for display\n",
    "a =[\"Geeks\", \"for\", \"Geeks\"]\n",
    "print(','.join(a))\n",
    "# print the list using join function()\n",
    "print(''.join(a))\n",
    " \n",
    "# print the list by converting a list of \n",
    "# integers to string \n",
    "a = [1, 2, 3, 4, 5]\n",
    " \n",
    "a = [1, 2, 3, 4, 5]\n",
    "z=\"sdfgh\"\n",
    "list(z)\n"
   ]
  },
  {
   "cell_type": "code",
   "execution_count": 37,
   "metadata": {},
   "outputs": [
    {
     "name": "stdout",
     "output_type": "stream",
     "text": [
      "['Mathematics', 'chemistry', 1997, 2000, 20544, 2222, 22222222]\n"
     ]
    }
   ],
   "source": [
    "# Adds List Element as value of List.\n",
    "List = ['Mathematics', 'chemistry', 1997, 2000]\n",
    "List.append(20544)\n",
    "List.extend([2222])\n",
    "a=List+[22222222]\n",
    "print(a)"
   ]
  },
  {
   "cell_type": "code",
   "execution_count": null,
   "metadata": {
    "collapsed": true
   },
   "outputs": [],
   "source": []
  },
  {
   "cell_type": "code",
   "execution_count": 1,
   "metadata": {},
   "outputs": [
    {
     "name": "stdout",
     "output_type": "stream",
     "text": [
      "['Mathematics', 'chemistry', 10087, 1997, 2000]\n"
     ]
    }
   ],
   "source": [
    "List = ['Mathematics', 'chemistry', 1997, 2000]\n",
    "# Insert at index 2 value 10087\n",
    "List.insert(2,10087)     \n",
    "print(List) \n"
   ]
  },
  {
   "cell_type": "code",
   "execution_count": 45,
   "metadata": {},
   "outputs": [
    {
     "data": {
      "text/plain": [
       "[[1, 0, 1, 0, 1, 0, 1, 0, 1, 0],\n",
       " [0, 1, 0, 1, 0, 1, 0, 1, 0, 1],\n",
       " [1, 0, 1, 0, 1, 0, 1, 0, 1, 0],\n",
       " [0, 1, 0, 1, 0, 1, 0, 1, 0, 1],\n",
       " [1, 0, 1, 0, 1, 0, 1, 0, 1, 0],\n",
       " [0, 1, 0, 1, 0, 1, 0, 1, 0, 1],\n",
       " [1, 0, 1, 0, 1, 0, 1, 0, 1, 0],\n",
       " [0, 1, 0, 1, 0, 1, 0, 1, 0, 1],\n",
       " [1, 0, 1, 0, 1, 0, 1, 0, 1, 0],\n",
       " [0, 1, 0, 1, 0, 1, 0, 1, 0, 1]]"
      ]
     },
     "execution_count": 45,
     "metadata": {},
     "output_type": "execute_result"
    }
   ],
   "source": [
    "list = [ 1 , 3 , 5 , 8 , 10 , 13 , 18 , 36 , 78 ]\n",
    "[x%2 for x in list[::2] if x%2 == 0]\n",
    "[[0 if (x+y)%2==1  else 1 for x in range(10)] for y in range(10)]"
   ]
  },
  {
   "cell_type": "code",
   "execution_count": null,
   "metadata": {
    "collapsed": true
   },
   "outputs": [],
   "source": []
  },
  {
   "cell_type": "code",
   "execution_count": 53,
   "metadata": {},
   "outputs": [
    {
     "name": "stdout",
     "output_type": "stream",
     "text": [
      "[2, 3, 4, 5, 1, 2, 3]\n"
     ]
    }
   ],
   "source": [
    "List11 = [1, 2, 3]\n",
    "List21 = [2, 3, 4, 5]\n",
    " \n",
    "\n",
    "#Add List1 to List2 now\n",
    "List21.extend(List11) \n",
    "\n",
    "print(List21)\n",
    "\n",
    "#print ([ x for x in z ])"
   ]
  },
  {
   "cell_type": "code",
   "execution_count": null,
   "metadata": {
    "collapsed": true
   },
   "outputs": [],
   "source": []
  },
  {
   "cell_type": "code",
   "execution_count": 54,
   "metadata": {},
   "outputs": [
    {
     "name": "stdout",
     "output_type": "stream",
     "text": [
      "15\n"
     ]
    }
   ],
   "source": [
    "List = [1, 2, 3, 4, 5]\n",
    "print(sum(List))\n"
   ]
  },
  {
   "cell_type": "code",
   "execution_count": 55,
   "metadata": {},
   "outputs": [
    {
     "name": "stdout",
     "output_type": "stream",
     "text": [
      "4\n"
     ]
    }
   ],
   "source": [
    "List = [1, 2, 3, 1, 2, 1, 2, 3, 2, 1]\n",
    "print(List.count(1))"
   ]
  },
  {
   "cell_type": "code",
   "execution_count": 28,
   "metadata": {},
   "outputs": [
    {
     "name": "stdout",
     "output_type": "stream",
     "text": [
      "1\n"
     ]
    }
   ],
   "source": [
    "List = [1, 2, 3, 1, 2, 1, 2, 3, 2, 1]\n",
    "print(List.index(2))"
   ]
  },
  {
   "cell_type": "code",
   "execution_count": 57,
   "metadata": {},
   "outputs": [
    {
     "name": "stdout",
     "output_type": "stream",
     "text": [
      "4\n",
      "6\n"
     ]
    }
   ],
   "source": [
    "List = [1, 21, 3, 1, 2, 1, 2, 3, 2, 1]\n",
    "\n",
    "\n",
    "##index(element,start,end)\n",
    "#first occurance in  between start and end-1\n",
    "print(List.index(2,0,8))\n",
    "\n",
    "print(List.index(2,List.index(2)+1,9))"
   ]
  },
  {
   "cell_type": "code",
   "execution_count": 48,
   "metadata": {},
   "outputs": [
    {
     "name": "stdout",
     "output_type": "stream",
     "text": [
      "1.054\n",
      "5.33\n"
     ]
    }
   ],
   "source": [
    "List = [2.3, 4.445, 3, 5.33, 1.054, 2.5]\n",
    "print(min(List))\n",
    "List = [2.3, 4.445, 3, 5.33, 1.054, 2.5]\n",
    "print(max(List))"
   ]
  },
  {
   "cell_type": "code",
   "execution_count": 60,
   "metadata": {},
   "outputs": [
    {
     "name": "stdout",
     "output_type": "stream",
     "text": [
      "[5.33, 4.445, 3, 2.5, 2.3, 1.054]\n"
     ]
    },
    {
     "data": {
      "text/plain": [
       "[1.054, 2.3, 2.5, 3, 4.445, 5.33]"
      ]
     },
     "execution_count": 60,
     "metadata": {},
     "output_type": "execute_result"
    }
   ],
   "source": [
    "List = [2.3, 4.445, 3, 5.33, 1.054, 2.5]\n",
    " \n",
    "#Reverse flag is set True\n",
    "List.sort(reverse=True) \n",
    " \n",
    "#List.sort().reverse(), reverses the sorted list  \n",
    "print(List)\n",
    "sorted(List)"
   ]
  },
  {
   "cell_type": "code",
   "execution_count": null,
   "metadata": {
    "collapsed": true
   },
   "outputs": [],
   "source": []
  },
  {
   "cell_type": "code",
   "execution_count": 50,
   "metadata": {},
   "outputs": [
    {
     "name": "stdout",
     "output_type": "stream",
     "text": [
      "2.5\n"
     ]
    }
   ],
   "source": [
    "List = [2.3, 4.445, 3, 5.33, 1.054, 2.5]\n",
    "print(List.pop())"
   ]
  },
  {
   "cell_type": "code",
   "execution_count": 51,
   "metadata": {},
   "outputs": [
    {
     "name": "stdout",
     "output_type": "stream",
     "text": [
      "[4.445, 3, 5.33, 1.054, 2.5]\n"
     ]
    }
   ],
   "source": [
    "List = [2.3, 4.445, 3, 5.33, 1.054, 2.5]\n",
    "del List[0]\n",
    "print(List)"
   ]
  },
  {
   "cell_type": "code",
   "execution_count": 61,
   "metadata": {},
   "outputs": [
    {
     "name": "stdout",
     "output_type": "stream",
     "text": [
      "[2.3, 4.445, 5.33, 1.054, 2.5]\n"
     ]
    }
   ],
   "source": [
    "List = [2.3, 4.445, 3, 5.33, 1.054, 2.5]\n",
    "List.remove(3)\n",
    "\n",
    "print(List)"
   ]
  },
  {
   "cell_type": "code",
   "execution_count": 63,
   "metadata": {},
   "outputs": [
    {
     "name": "stdout",
     "output_type": "stream",
     "text": [
      "Average of the list = 2.99\n"
     ]
    }
   ],
   "source": [
    "# Printing average of the list\n",
    "average=2.9876\n",
    "print(\"Average of the list =\", round(average, 2))"
   ]
  },
  {
   "cell_type": "code",
   "execution_count": null,
   "metadata": {},
   "outputs": [],
   "source": [
    "N=int(input())\n",
    "z=[[i]*i for i in range(1,N)]\n",
    "z\n",
    "\n"
   ]
  },
  {
   "cell_type": "code",
   "execution_count": null,
   "metadata": {
    "collapsed": true
   },
   "outputs": [],
   "source": []
  },
  {
   "cell_type": "markdown",
   "metadata": {},
   "source": [
    "# tuple"
   ]
  },
  {
   "cell_type": "code",
   "execution_count": 74,
   "metadata": {},
   "outputs": [
    {
     "name": "stdout",
     "output_type": "stream",
     "text": [
      "()\n"
     ]
    }
   ],
   "source": [
    "#\n",
    "#Creating Tuples\n",
    "\n",
    "# An empty tuple\n",
    "empty_tuple = ()\n",
    "print (empty_tuple)"
   ]
  },
  {
   "cell_type": "code",
   "execution_count": 76,
   "metadata": {},
   "outputs": [
    {
     "name": "stdout",
     "output_type": "stream",
     "text": [
      "('python', 'geeks', 'p')\n",
      "('python', 'geeks')\n"
     ]
    }
   ],
   "source": [
    "# Creating non-empty tuples\n",
    " \n",
    "# One way of creation\n",
    "tup = 'python', 'geeks','p'\n",
    "print(tup)\n",
    " \n",
    "# Another for doing the same\n",
    "tup = ('python', 'geeks')\n",
    "print(tup)"
   ]
  },
  {
   "cell_type": "code",
   "execution_count": null,
   "metadata": {
    "collapsed": true
   },
   "outputs": [],
   "source": []
  },
  {
   "cell_type": "code",
   "execution_count": 77,
   "metadata": {},
   "outputs": [
    {
     "name": "stdout",
     "output_type": "stream",
     "text": [
      "(0, 1, 2, 3, 'python', 'geek')\n"
     ]
    }
   ],
   "source": [
    "# Code for concatenating 2 tuples\n",
    " \n",
    "tuple1 = (0, 1, 2, 3)\n",
    "tuple2 = ('python', 'geek')\n",
    " \n",
    "# Concatenating above two\n",
    "print(tuple1 + tuple2)"
   ]
  },
  {
   "cell_type": "code",
   "execution_count": null,
   "metadata": {
    "collapsed": true
   },
   "outputs": [],
   "source": []
  },
  {
   "cell_type": "code",
   "execution_count": 82,
   "metadata": {},
   "outputs": [
    {
     "name": "stdout",
     "output_type": "stream",
     "text": [
      "('python', 'python', 'python')\n"
     ]
    }
   ],
   "source": [
    "# Code to create a tuple with repetition\n",
    " \n",
    "tuple3 = ('python',)*3\n",
    "print(tuple3)"
   ]
  },
  {
   "cell_type": "code",
   "execution_count": 84,
   "metadata": {},
   "outputs": [
    {
     "ename": "TypeError",
     "evalue": "'tuple' object does not support item assignment",
     "output_type": "error",
     "traceback": [
      "\u001b[1;31m---------------------------------------------------------------------------\u001b[0m",
      "\u001b[1;31mTypeError\u001b[0m                                 Traceback (most recent call last)",
      "\u001b[1;32m<ipython-input-84-5929bb9e50ba>\u001b[0m in \u001b[0;36m<module>\u001b[1;34m()\u001b[0m\n\u001b[0;32m      2\u001b[0m \u001b[1;33m\u001b[0m\u001b[0m\n\u001b[0;32m      3\u001b[0m \u001b[0mtuple1\u001b[0m \u001b[1;33m=\u001b[0m \u001b[1;33m(\u001b[0m\u001b[1;36m0\u001b[0m\u001b[1;33m,\u001b[0m \u001b[1;36m1\u001b[0m\u001b[1;33m,\u001b[0m \u001b[1;36m2\u001b[0m\u001b[1;33m,\u001b[0m \u001b[1;36m3\u001b[0m\u001b[1;33m)\u001b[0m\u001b[1;33m\u001b[0m\u001b[0m\n\u001b[1;32m----> 4\u001b[1;33m \u001b[0mtuple1\u001b[0m\u001b[1;33m[\u001b[0m\u001b[1;36m0\u001b[0m\u001b[1;33m]\u001b[0m \u001b[1;33m=\u001b[0m \u001b[1;36m4\u001b[0m\u001b[1;33m\u001b[0m\u001b[0m\n\u001b[0m\u001b[0;32m      5\u001b[0m \u001b[0mprint\u001b[0m\u001b[1;33m(\u001b[0m\u001b[0mtuple1\u001b[0m\u001b[1;33m)\u001b[0m\u001b[1;33m\u001b[0m\u001b[0m\n",
      "\u001b[1;31mTypeError\u001b[0m: 'tuple' object does not support item assignment"
     ]
    }
   ],
   "source": [
    "#code to test that tuples are immutable\n",
    " \n",
    "tuple1 = (0, 1, 2, 3)\n",
    "tuple1[0] = 4\n",
    "print(tuple1)"
   ]
  },
  {
   "cell_type": "code",
   "execution_count": null,
   "metadata": {
    "collapsed": true
   },
   "outputs": [],
   "source": []
  },
  {
   "cell_type": "code",
   "execution_count": 92,
   "metadata": {},
   "outputs": [
    {
     "name": "stdout",
     "output_type": "stream",
     "text": [
      "(1, 2, 3)\n",
      "(3, 2, 1, 0)\n",
      "(2, 3)\n"
     ]
    }
   ],
   "source": [
    "# code to test slicing\n",
    " \n",
    "tuple1 = (0 ,1, 2, 3)\n",
    "print(tuple1[1:])\n",
    "print(tuple1[::-1])\n",
    "print(tuple1[2:4])"
   ]
  },
  {
   "cell_type": "code",
   "execution_count": 98,
   "metadata": {},
   "outputs": [
    {
     "data": {
      "text/plain": [
       "(0, 1, 3, 5)"
      ]
     },
     "execution_count": 98,
     "metadata": {},
     "output_type": "execute_result"
    }
   ],
   "source": [
    "# Code for deleting a tuple\n",
    " \n",
    "tuple3 = ( 0, 1)\n",
    "tuple2=(3,5)\n",
    "tuple3+tuple2\n"
   ]
  },
  {
   "cell_type": "code",
   "execution_count": 101,
   "metadata": {},
   "outputs": [
    {
     "name": "stdout",
     "output_type": "stream",
     "text": [
      "(0, 1, 2)\n",
      "('p', 'y', 't', 'h', 'o', 'n')\n"
     ]
    }
   ],
   "source": [
    "list1 = [0, 1, 2]\n",
    "print(tuple(list1))\n",
    "print(tuple('python'))\n"
   ]
  },
  {
   "cell_type": "code",
   "execution_count": null,
   "metadata": {
    "collapsed": true
   },
   "outputs": [],
   "source": []
  },
  {
   "cell_type": "markdown",
   "metadata": {},
   "source": [
    "# set"
   ]
  },
  {
   "cell_type": "code",
   "execution_count": null,
   "metadata": {
    "collapsed": true
   },
   "outputs": [],
   "source": []
  },
  {
   "cell_type": "code",
   "execution_count": null,
   "metadata": {
    "collapsed": true
   },
   "outputs": [],
   "source": []
  },
  {
   "cell_type": "code",
   "execution_count": null,
   "metadata": {
    "collapsed": true
   },
   "outputs": [],
   "source": []
  },
  {
   "cell_type": "code",
   "execution_count": 108,
   "metadata": {},
   "outputs": [
    {
     "name": "stdout",
     "output_type": "stream",
     "text": [
      "Normal Set\n",
      "{'a', 'b', 'c', 'd'}\n",
      "Frozen Set\n",
      "frozenset({'g', 'e', 'f'})\n"
     ]
    },
    {
     "data": {
      "text/plain": [
       "{'a', 'b', 'c', 'd'}"
      ]
     },
     "execution_count": 108,
     "metadata": {},
     "output_type": "execute_result"
    }
   ],
   "source": [
    "# Python program to demonstrate differences\n",
    "# between normal and frozen set\n",
    " \n",
    "# Same as {\"a\", \"b\",\"c\"}\n",
    "normal_set = set([\"a\", \"b\",\"c\"])\n",
    " \n",
    "# Adding an element to normal set is fine\n",
    "normal_set.add(\"d\")\n",
    " \n",
    "print(\"Normal Set\")\n",
    "print(normal_set)\n",
    " \n",
    "# A frozen set\n",
    "frozen_set = frozenset([\"e\", \"f\", \"g\"])\n",
    " \n",
    "print(\"Frozen Set\")\n",
    "print(frozen_set)\n",
    " \n",
    "# Uncommenting below line would cause error as\n",
    "# we are trying to add element to a frozen set\n",
    "#frozen_set.add(\"h\")\n",
    "normal_set\n"
   ]
  },
  {
   "cell_type": "code",
   "execution_count": 109,
   "metadata": {},
   "outputs": [
    {
     "data": {
      "text/plain": [
       "{'Archil', 'Daxit', 'Idrish', 'Jay'}"
      ]
     },
     "execution_count": 109,
     "metadata": {},
     "output_type": "execute_result"
    }
   ],
   "source": [
    "people = {\"Jay\", \"Idrish\", \"Archil\"}\n",
    "people.add(\"Daxit\") \n",
    "people"
   ]
  },
  {
   "cell_type": "code",
   "execution_count": 110,
   "metadata": {},
   "outputs": [
    {
     "data": {
      "text/plain": [
       "{'Archil', 'Arjun', 'Idrish', 'Jay', 'Karan'}"
      ]
     },
     "execution_count": 110,
     "metadata": {},
     "output_type": "execute_result"
    }
   ],
   "source": [
    "#un\n",
    "people = {\"Jay\", \"Idrish\", \"Archil\"}\n",
    "vampires = {\"Karan\", \"Arjun\" ,\"Idrish\"}\n",
    "population = people.union(vampires)\n",
    "population"
   ]
  },
  {
   "cell_type": "code",
   "execution_count": 111,
   "metadata": {},
   "outputs": [
    {
     "data": {
      "text/plain": [
       "{'Archil', 'Arjun', 'Idrish', 'Jay', 'Karan'}"
      ]
     },
     "execution_count": 111,
     "metadata": {},
     "output_type": "execute_result"
    }
   ],
   "source": [
    "population = people|vampires\n",
    "population"
   ]
  },
  {
   "cell_type": "code",
   "execution_count": 116,
   "metadata": {},
   "outputs": [
    {
     "data": {
      "text/plain": [
       "{'Archil', 'Idrish', 'Jay'}"
      ]
     },
     "execution_count": 116,
     "metadata": {},
     "output_type": "execute_result"
    }
   ],
   "source": [
    "population = people or vampires\n",
    "population\n",
    "#use "
   ]
  },
  {
   "cell_type": "code",
   "execution_count": 117,
   "metadata": {},
   "outputs": [
    {
     "data": {
      "text/plain": [
       "{'Idrish'}"
      ]
     },
     "execution_count": 117,
     "metadata": {},
     "output_type": "execute_result"
    }
   ],
   "source": [
    "victims = people.intersection(vampires)\n",
    "victims"
   ]
  },
  {
   "cell_type": "code",
   "execution_count": 121,
   "metadata": {},
   "outputs": [
    {
     "data": {
      "text/plain": [
       "{'Idrish'}"
      ]
     },
     "execution_count": 121,
     "metadata": {},
     "output_type": "execute_result"
    }
   ],
   "source": [
    "victims = people & vampires\n",
    "victims\n"
   ]
  },
  {
   "cell_type": "code",
   "execution_count": 123,
   "metadata": {},
   "outputs": [
    {
     "data": {
      "text/plain": [
       "{'Archil', 'Jay'}"
      ]
     },
     "execution_count": 123,
     "metadata": {},
     "output_type": "execute_result"
    }
   ],
   "source": [
    "safe = people.difference(vampires)\n",
    "safe"
   ]
  },
  {
   "cell_type": "code",
   "execution_count": 124,
   "metadata": {},
   "outputs": [
    {
     "data": {
      "text/plain": [
       "{'Archil', 'Jay'}"
      ]
     },
     "execution_count": 124,
     "metadata": {},
     "output_type": "execute_result"
    }
   ],
   "source": [
    "safe = people - vampires\n",
    "safe"
   ]
  },
  {
   "cell_type": "code",
   "execution_count": 125,
   "metadata": {},
   "outputs": [
    {
     "data": {
      "text/plain": [
       "set()"
      ]
     },
     "execution_count": 125,
     "metadata": {},
     "output_type": "execute_result"
    }
   ],
   "source": [
    "victims.clear()\n",
    "victims"
   ]
  },
  {
   "cell_type": "code",
   "execution_count": 115,
   "metadata": {},
   "outputs": [
    {
     "name": "stdout",
     "output_type": "stream",
     "text": [
      "Set1 =  {1, 2, 3, 4, 5}\n",
      "Set2 =  {3, 4, 5, 6, 7}\n",
      "\n",
      "\n",
      "Union of Set1 & Set2: Set3 =  {1, 2, 3, 4, 5, 6, 7}\n",
      "Intersection of Set1 & Set2: Set4 =  {3, 4, 5}\n",
      "\n",
      "\n",
      "Set3 is superset of Set4\n",
      "Set4 is subset of Set3\n",
      "\n",
      "\n",
      "Elements in Set3 and not in Set4: Set5 =  {1, 2, 6, 7}\n",
      "\n",
      "\n",
      "Set4 and Set5 have nothing in common\n",
      "\n",
      "After applying clear on sets Set5: \n",
      "Set5 =  set()\n"
     ]
    },
    {
     "data": {
      "text/plain": [
       "True"
      ]
     },
     "execution_count": 115,
     "metadata": {},
     "output_type": "execute_result"
    }
   ],
   "source": [
    "# Python program to demonstrate working# of\n",
    "# Set in Python\n",
    " \n",
    "# Creating two sets\n",
    "set1 = set()\n",
    "set2 = set()\n",
    " \n",
    "# Adding elements to set1\n",
    "for i in range(1, 6):\n",
    "    set1.add(i)\n",
    " \n",
    "\n",
    "for i in range(3, 8):\n",
    "    set2.add(i)\n",
    " \n",
    "print(\"Set1 = \", set1)\n",
    "print(\"Set2 = \", set2)\n",
    "print(\"\\n\")\n",
    " \n",
    "# Union of set1 and set2\n",
    "set3 = set1 | set2# set1.union(set2)\n",
    "print(\"Union of Set1 & Set2: Set3 = \", set3)\n",
    " \n",
    "# Intersection of set1 and set2\n",
    "set4 = set1 & set2# set1.intersection(set2)\n",
    "print(\"Intersection of Set1 & Set2: Set4 = \", set4)\n",
    "print(\"\\n\")\n",
    " \n",
    "# Checking relation between set3 and set4\n",
    "if set3 > set4: # set3.issuperset(set4)\n",
    "    print(\"Set3 is superset of Set4\")\n",
    "elif set3 < set4: # set3.issubset(set4)\n",
    "    print(\"Set3 is subset of Set4\")\n",
    "else : # set3 == set4\n",
    "    print(\"Set3 is same as Set4\")\n",
    " \n",
    "\n",
    "if set4 < set3: # set4.issubset(set3)\n",
    "    print(\"Set4 is subset of Set3\")\n",
    "    print(\"\\n\")\n",
    " \n",
    "\n",
    "set5 = set3 - set4\n",
    "print(\"Elements in Set3 and not in Set4: Set5 = \", set5)\n",
    "print(\"\\n\")\n",
    " \n",
    "# checkv if set4 and set5 are disjoint sets\n",
    "if set4.isdisjoint(set5):\n",
    "    print(\"Set4 and Set5 have nothing in common\\n\")\n",
    " \n",
    "\n",
    "set5.clear()\n",
    " \n",
    "print(\"After applying clear on sets Set5: \")\n",
    "print(\"Set5 = \", set5)\n",
    "\n",
    "set1 not in set2"
   ]
  },
  {
   "cell_type": "code",
   "execution_count": null,
   "metadata": {
    "collapsed": true
   },
   "outputs": [],
   "source": [
    "rand"
   ]
  },
  {
   "cell_type": "code",
   "execution_count": null,
   "metadata": {
    "collapsed": true
   },
   "outputs": [],
   "source": []
  },
  {
   "cell_type": "markdown",
   "metadata": {},
   "source": [
    "# dict"
   ]
  },
  {
   "cell_type": "code",
   "execution_count": 116,
   "metadata": {},
   "outputs": [
    {
     "name": "stdout",
     "output_type": "stream",
     "text": [
      "The constituents of dictionary as string are : \n",
      "{'Name': 'Nandini', 'Age': 19}\n",
      "The constituents of dictionary as list are : \n",
      "dict_items([('Name', 'Nandini'), ('Age', 19)])\n"
     ]
    }
   ],
   "source": [
    "# Initializing dictionary\n",
    "dic = { 'Name' : 'Nandini', 'Age' : 19 }\n",
    " \n",
    "# using str() to display dic as string\n",
    "print (\"The constituents of dictionary as string are : \")\n",
    "print (str(dic))\n",
    " \n",
    "# using str() to display dic as list\n",
    "print (\"The constituents of dictionary as list are : \")\n",
    "print (dic.items())"
   ]
  },
  {
   "cell_type": "code",
   "execution_count": 126,
   "metadata": {},
   "outputs": [
    {
     "name": "stdout",
     "output_type": "stream",
     "text": [
      "The size of dic is : 3\n",
      "The data type of dic is : <class 'dict'>\n",
      "The data type of li is : <class 'list'>\n"
     ]
    }
   ],
   "source": [
    "# Python code to demonstrate working of\n",
    "# len() and type()\n",
    " \n",
    "# Initializing dictionary\n",
    "dic = { 'Name' : 'Nandini', 'Age' : 19, 'ID' : 2541997 }\n",
    " \n",
    "# Initializing list\n",
    "li = [ 1, 3, 5, 6 ]\n",
    " \n",
    "# using len() to display dic size\n",
    "print (\"The size of dic is : \",end=\"\")\n",
    "print (len(dic))\n",
    " \n",
    "# using type() to display data type\n",
    "print (\"The data type of dic is : \",end=\"\")\n",
    "print (type(dic))\n",
    " \n",
    "# using type() to display data type\n",
    "print (\"The data type of li is : \",end=\"\")\n",
    "print (type(li))"
   ]
  },
  {
   "cell_type": "code",
   "execution_count": 127,
   "metadata": {},
   "outputs": [
    {
     "name": "stdout",
     "output_type": "stream",
     "text": [
      "The new copied dictionary is : \n",
      "dict_items([('Name', 'Nandini'), ('Age', 19), ('ID', 2541997)])\n",
      "The contents of deleted dictionary is : dict_items([])\n"
     ]
    }
   ],
   "source": [
    "# Initializing dictionary \n",
    "dic3 = {}\n",
    " \n",
    "# using copy() to make shallow copy of dictionary\n",
    "dic3 = dic.copy()\n",
    " \n",
    "# printing new dictionary\n",
    "print (\"The new copied dictionary is : \")\n",
    "print (dic3.items())\n",
    " \n",
    "# clearing the dictionary\n",
    "dic.clear()\n",
    " \n",
    "# printing cleared dictionary\n",
    "print (\"The contents of deleted dictionary is : \",end=\"\")\n",
    "print (dic.items())"
   ]
  },
  {
   "cell_type": "code",
   "execution_count": null,
   "metadata": {
    "collapsed": true
   },
   "outputs": [],
   "source": [
    "#list of list "
   ]
  },
  {
   "cell_type": "code",
   "execution_count": 125,
   "metadata": {},
   "outputs": [
    {
     "name": "stdout",
     "output_type": "stream",
     "text": [
      "2\n"
     ]
    },
    {
     "data": {
      "text/plain": [
       "[[0, 0], [0, 0]]"
      ]
     },
     "execution_count": 125,
     "metadata": {},
     "output_type": "execute_result"
    }
   ],
   "source": [
    "\n"
   ]
  },
  {
   "cell_type": "code",
   "execution_count": 128,
   "metadata": {},
   "outputs": [
    {
     "name": "stdout",
     "output_type": "stream",
     "text": [
      "[[5, 60, 16, 41, 89, 92, 35, 23, 15, 77], [82, 6, 18, 37, 100, 28, 15, 89, 64, 43], [85, 3, 31, 22, 21, 97, 39, 20, 71, 100], [32, 70, 91, 80, 33, 53, 52, 44, 94, 11], [8, 67, 54, 73, 46, 86, 17, 17, 69, 76], [66, 9, 42, 13, 44, 55, 37, 36, 18, 80], [19, 49, 68, 47, 35, 42, 86, 55, 23, 45], [32, 67, 13, 58, 10, 31, 2, 96, 71, 77], [86, 98, 50, 31, 98, 15, 92, 12, 61, 30], [71, 55, 31, 29, 79, 14, 57, 39, 74, 23], [6, 81, 63, 97, 21, 25, 100, 23, 39, 94], [22, 48, 32, 78, 18, 59, 73, 82, 11, 93], [4, 6, 75, 42, 58, 28, 25, 53, 83, 68], [27, 47, 76, 6, 45, 99, 19, 85, 68, 47], [61, 37, 8, 20, 74, 82, 2, 32, 43, 58], [19, 43, 90, 9, 75, 100, 66, 48, 100, 1], [58, 11, 18, 93, 98, 46, 42, 26, 72, 66], [13, 62, 100, 98, 27, 52, 2, 78, 54, 46], [100, 85, 16, 33, 50, 69, 63, 43, 31, 50], [27, 100, 78, 40, 9, 35, 7, 96, 99, 19], [85, 90, 61, 7, 22, 38, 59, 70, 53, 18], [13, 51, 23, 12, 45, 91, 24, 34, 19, 28], [40, 63, 53, 94, 3, 21, 48, 87, 8, 31], [46, 93, 6, 56, 52, 29, 43, 97, 35, 14], [3, 24, 5, 45, 55, 3, 38, 37, 24, 15], [67, 81, 27, 13, 61, 11, 37, 51, 35, 67], [26, 57, 21, 62, 5, 45, 81, 47, 91, 46], [96, 42, 47, 17, 90, 38, 48, 44, 41, 11], [2, 2, 60, 33, 18, 69, 32, 99, 24, 60], [17, 84, 66, 12, 26, 51, 22, 79, 35, 14], [65, 70, 2, 45, 25, 91, 78, 77, 74, 73], [4, 86, 80, 23, 50, 15, 25, 96, 59, 22], [26, 42, 98, 5, 88, 85, 73, 16, 33, 91], [18, 47, 30, 100, 82, 94, 88, 34, 33, 57], [43, 34, 83, 40, 25, 14, 16, 72, 20, 68], [33, 90, 55, 89, 21, 19, 21, 51, 29, 25], [15, 93, 66, 66, 99, 51, 100, 71, 40, 89], [75, 59, 35, 74, 34, 12, 17, 63, 97, 32], [27, 87, 41, 27, 74, 85, 92, 18, 31, 72], [87, 31, 5, 53, 15, 14, 43, 24, 3, 17], [58, 4, 6, 12, 36, 54, 10, 85, 51, 30], [93, 89, 68, 24, 44, 89, 85, 30, 84, 35], [72, 63, 80, 75, 37, 36, 97, 6, 14, 77], [31, 90, 48, 73, 14, 44, 33, 44, 93, 65], [76, 11, 97, 68, 4, 47, 60, 21, 85, 86], [70, 73, 38, 21, 16, 18, 88, 38, 24, 76], [31, 76, 86, 39, 75, 85, 34, 22, 34, 89], [94, 78, 50, 30, 32, 38, 37, 84, 18, 64], [93, 44, 59, 34, 19, 43, 38, 93, 56, 4], [91, 50, 51, 72, 29, 17, 60, 29, 37, 41], [42, 45, 13, 24, 75, 53, 63, 78, 38, 43], [37, 1, 28, 93, 68, 79, 67, 6, 37, 84], [56, 35, 94, 33, 26, 44, 88, 13, 52, 32], [21, 83, 7, 54, 78, 90, 74, 75, 78, 78], [47, 64, 30, 68, 24, 3, 50, 33, 92, 57], [77, 57, 16, 78, 14, 92, 62, 94, 15, 76], [84, 2, 12, 76, 41, 45, 85, 54, 20, 51], [48, 18, 95, 100, 73, 81, 47, 57, 93, 51], [72, 72, 55, 26, 16, 73, 56, 81, 49, 99], [90, 12, 61, 91, 27, 12, 40, 42, 27, 38], [65, 83, 63, 9, 89, 50, 32, 29, 83, 25], [26, 100, 42, 37, 85, 63, 93, 35, 85, 88], [33, 16, 15, 24, 75, 11, 17, 80, 22, 35], [87, 14, 59, 69, 90, 92, 59, 91, 67, 60], [1, 87, 68, 89, 7, 70, 60, 1, 73, 26], [30, 44, 75, 54, 26, 37, 34, 97, 78, 22], [53, 8, 5, 2, 54, 79, 36, 24, 49, 65], [17, 21, 23, 48, 38, 77, 37, 45, 93, 29], [100, 13, 53, 77, 41, 18, 15, 32, 36, 93], [32, 17, 4, 42, 73, 40, 97, 45, 43, 49], [73, 87, 31, 28, 72, 66, 61, 55, 39, 44], [60, 63, 37, 31, 83, 66, 44, 40, 70, 80], [18, 34, 58, 20, 29, 29, 45, 22, 73, 93], [44, 37, 2, 1, 86, 100, 99, 26, 68, 2], [23, 26, 79, 19, 8, 100, 9, 39, 91, 96], [96, 44, 28, 34, 96, 78, 70, 65, 100, 13], [84, 18, 59, 77, 46, 13, 48, 38, 13, 72], [72, 49, 8, 27, 26, 67, 73, 22, 50, 86], [15, 61, 43, 96, 60, 10, 100, 87, 16, 53], [27, 36, 90, 12, 11, 34, 32, 58, 97, 22], [55, 21, 95, 76, 31, 57, 14, 99, 30, 82], [9, 28, 21, 60, 68, 21, 20, 33, 19, 73], [67, 10, 40, 96, 45, 28, 62, 82, 76, 12], [95, 100, 46, 10, 8, 92, 56, 32, 73, 61], [90, 20, 1, 34, 43, 15, 14, 3, 73, 87], [23, 95, 35, 22, 99, 15, 45, 88, 97, 51], [66, 12, 58, 88, 28, 51, 69, 4, 24, 23], [72, 83, 54, 54, 31, 39, 65, 68, 1, 18], [100, 91, 45, 36, 25, 64, 66, 14, 37, 73], [7, 30, 86, 23, 26, 65, 94, 41, 19, 33], [15, 74, 31, 79, 87, 29, 95, 41, 47, 45], [82, 89, 63, 75, 29, 80, 81, 10, 52, 10], [55, 65, 53, 43, 64, 72, 86, 9, 79, 53], [39, 40, 19, 20, 55, 56, 42, 67, 25, 4], [6, 21, 84, 53, 68, 51, 95, 52, 20, 97], [65, 73, 86, 63, 93, 51, 8, 3, 28, 44], [83, 68, 20, 98, 55, 16, 93, 46, 69, 29], [93, 41, 17, 56, 3, 39, 64, 2, 85, 89], [35, 81, 69, 37, 70, 61, 92, 4, 60, 29]]\n"
     ]
    }
   ],
   "source": [
    "from random import randint\n",
    "\n",
    "v = [[randint(1, 100) for i in range(10)] for i in range(1,100)]\n",
    "print(v)"
   ]
  },
  {
   "cell_type": "code",
   "execution_count": null,
   "metadata": {
    "collapsed": true
   },
   "outputs": [],
   "source": []
  },
  {
   "cell_type": "code",
   "execution_count": 131,
   "metadata": {},
   "outputs": [
    {
     "name": "stdout",
     "output_type": "stream",
     "text": [
      "2\n",
      "4\n"
     ]
    }
   ],
   "source": []
  },
  {
   "cell_type": "markdown",
   "metadata": {},
   "source": [
    "# type conversion"
   ]
  },
  {
   "cell_type": "code",
   "execution_count": 132,
   "metadata": {},
   "outputs": [
    {
     "name": "stdout",
     "output_type": "stream",
     "text": [
      "After converting to integer : 10010\n",
      "After converting to integer base 2 : 6570\n",
      "After converting to float : \n",
      "10010.0\n"
     ]
    }
   ],
   "source": [
    "\n",
    "# Python code to demonstrate Type conversion\n",
    "# using int(), float()\n",
    " \n",
    "# initializing string\n",
    "s = \"10010\"\n",
    " \n",
    "# printing string converting to int \n",
    "c = int(s)\n",
    "print (\"After converting to integer : \", end=\"\")\n",
    "print (c)\n",
    "# printing string converting to int base 2\n",
    "c = int(s,9)\n",
    "print (\"After converting to integer base 2 : \", end=\"\")\n",
    "print (c)\n",
    " \n",
    "# printing string converting to float\n",
    "e = float(s)\n",
    "print (\"After converting to float : \")\n",
    "print (e)"
   ]
  },
  {
   "cell_type": "code",
   "execution_count": 133,
   "metadata": {},
   "outputs": [
    {
     "name": "stdout",
     "output_type": "stream",
     "text": [
      "After converting character to integer : 52\n",
      "After converting 56 to hexadecimal string : 0x38\n",
      "After converting 56 to octal string : 0o70\n"
     ]
    }
   ],
   "source": [
    "# Python code to demonstrate Type conversion\n",
    "# using  ord(), hex(), oct()\n",
    " \n",
    "# initializing integer\n",
    "s = '4'\n",
    " \n",
    "# printing character converting to integer\n",
    "c = ord(s)\n",
    "print (\"After converting character to integer : \",end=\"\")\n",
    "print (c)\n",
    " \n",
    "# printing integer converting to hexadecimal string\n",
    "c = hex(56)\n",
    "print (\"After converting 56 to hexadecimal string : \",end=\"\")\n",
    "print (c)\n",
    " \n",
    "# printing integer converting to octal string\n",
    "c = oct(56)\n",
    "print (\"After converting 56 to octal string : \",end=\"\")\n",
    "print (c)"
   ]
  },
  {
   "cell_type": "code",
   "execution_count": null,
   "metadata": {
    "collapsed": true
   },
   "outputs": [],
   "source": []
  },
  {
   "cell_type": "code",
   "execution_count": 150,
   "metadata": {},
   "outputs": [
    {
     "name": "stdout",
     "output_type": "stream",
     "text": [
      "After converting string to tuple : ('g', 'e', 'e', 'k', 's')\n",
      "After converting string to set : {'k', 'g', 's', 'e'}\n",
      "After converting string to list : ['g', 'e', 'e', 'k', 's']\n"
     ]
    }
   ],
   "source": [
    "# Python code to demonstrate Type conversion\n",
    "# using  tuple(), set(), list()\n",
    " \n",
    "# initializing string\n",
    "s = 'geeks'\n",
    " \n",
    "# printing string converting to tuple\n",
    "c = tuple(s)\n",
    "print (\"After converting string to tuple : \",end=\"\")\n",
    "print (c)\n",
    "print(tuple())\n",
    " \n",
    "# printing string converting to set\n",
    "c = set(s)\n",
    "print (\"After converting string to set : \",end=\"\")\n",
    "print (c)\n",
    " \n",
    "# printing string converting to list\n",
    "c = list(s)\n",
    "print (\"After converting string to list : \",end=\"\")\n",
    "print (c)"
   ]
  },
  {
   "cell_type": "code",
   "execution_count": 153,
   "metadata": {},
   "outputs": [
    {
     "name": "stdout",
     "output_type": "stream",
     "text": [
      "After converting integer to complex number : (1+2j)\n",
      "After converting integer to string : 1\n",
      "After converting tuple to dictionary : {'a': 1, 'f': 2, 'g': 3}\n"
     ]
    }
   ],
   "source": [
    "# Python code to demonstrate Type conversion\n",
    "# using  dict(), complex(), str()\n",
    " \n",
    "# initializing integers\n",
    "a = 1\n",
    "b = 2\n",
    " \n",
    "# initializing tuple\n",
    "tup = (('a', 1) ,('f', 2), ('g', 3))\n",
    " \n",
    "# printing integer converting to complex number\n",
    "c = complex(1,2)\n",
    "print (\"After converting integer to complex number : \",end=\"\")\n",
    "print (c)\n",
    "\n",
    "# printing integer converting to string\n",
    "c = str(a)\n",
    "print (\"After converting integer to string : \",end=\"\")\n",
    "print (c)\n",
    " \n",
    "# printing tuple converting to expression dictionary\n",
    "c = dict(tup)\n",
    "print (\"After converting tuple to dictionary : \",end=\"\")\n",
    "print (c)"
   ]
  },
  {
   "cell_type": "code",
   "execution_count": null,
   "metadata": {
    "collapsed": true
   },
   "outputs": [],
   "source": []
  },
  {
   "cell_type": "markdown",
   "metadata": {},
   "source": [
    "# boolean bitwise"
   ]
  },
  {
   "cell_type": "code",
   "execution_count": null,
   "metadata": {
    "collapsed": true
   },
   "outputs": [],
   "source": []
  },
  {
   "cell_type": "code",
   "execution_count": 66,
   "metadata": {},
   "outputs": [
    {
     "name": "stdout",
     "output_type": "stream",
     "text": [
      "False\n",
      "True\n",
      "6\n"
     ]
    }
   ],
   "source": [
    "a = not True\n",
    "b = not False\n",
    "print (a)\n",
    "print( b)\n",
    "\n",
    "#bitwise ~\n",
    "print(~~~~6)"
   ]
  },
  {
   "cell_type": "markdown",
   "metadata": {},
   "source": [
    "# mathematics"
   ]
  },
  {
   "cell_type": "code",
   "execution_count": 12,
   "metadata": {},
   "outputs": [
    {
     "name": "stdout",
     "output_type": "stream",
     "text": [
      "The e**4 value is : 54.598150033144236\n",
      "The value of log 2 with base 3 is : 6.794415866350106\n"
     ]
    },
    {
     "data": {
      "text/plain": [
       "3"
      ]
     },
     "execution_count": 12,
     "metadata": {},
     "output_type": "execute_result"
    }
   ],
   "source": [
    "# Python code to demonstrate the working of\n",
    "# exp() and log()\n",
    "  \n",
    "# importing \"math\" for mathematical operations\n",
    "import math\n",
    "  \n",
    "# returning the exp of 4\n",
    "print (\"The e**4 value is : \", end=\"\")\n",
    "print (math.exp(4))\n",
    "  \n",
    "# returning the log of 2,3\n",
    "print (\"The value of log 2 with base 3 is : \", end=\"\")\n",
    "print (math.log(111,2))\n",
    "math.log(1)\n",
    "math.ceil(2.2)"
   ]
  },
  {
   "cell_type": "markdown",
   "metadata": {},
   "source": [
    "# Calender"
   ]
  },
  {
   "cell_type": "code",
   "execution_count": 13,
   "metadata": {},
   "outputs": [
    {
     "name": "stdout",
     "output_type": "stream",
     "text": [
      "The calender of year 201 is : \n",
      "The starting day number in calendar is : 0\n",
      "2\n",
      "\n"
     ]
    }
   ],
   "source": [
    "# Python code to demonstrate the working of\n",
    "# calendar() and firstweeksday()\n",
    " \n",
    "# importing calendar module for calendar operations\n",
    "import calendar\n",
    " \n",
    "# using calender to print calendar of year\n",
    "# prints calendar of 2012\n",
    "print (\"The calender of year 201 is : \")\n",
    "#print (calendar.calendar(2019))\n",
    " \n",
    "#using firstweekday() to print starting day number\n",
    "print (\"The starting day number in calendar is : \",end=\"\")\n",
    "print (calendar.firstweekday())\n",
    "print(calendar.leapdays(2011,2019))\n",
    "print( )\n",
    "\n"
   ]
  },
  {
   "cell_type": "code",
   "execution_count": null,
   "metadata": {
    "collapsed": true
   },
   "outputs": [],
   "source": []
  },
  {
   "cell_type": "code",
   "execution_count": null,
   "metadata": {
    "collapsed": true
   },
   "outputs": [],
   "source": []
  },
  {
   "cell_type": "code",
   "execution_count": 149,
   "metadata": {},
   "outputs": [
    {
     "name": "stdout",
     "output_type": "stream",
     "text": [
      "2013-09-02\n",
      "12\n"
     ]
    },
    {
     "data": {
      "text/plain": [
       "True"
      ]
     },
     "execution_count": 149,
     "metadata": {},
     "output_type": "execute_result"
    }
   ],
   "source": [
    "\n",
    "print(calendar.datetime.date(2013,9,2))\n",
    "print (calendar.leapdays(1950, 2000))\n",
    "calendar.datetime.time()\n",
    "calendar.isleap(2008)"
   ]
  },
  {
   "cell_type": "code",
   "execution_count": null,
   "metadata": {
    "collapsed": true
   },
   "outputs": [],
   "source": []
  },
  {
   "cell_type": "code",
   "execution_count": 146,
   "metadata": {},
   "outputs": [
    {
     "name": "stdout",
     "output_type": "stream",
     "text": [
      "     March 2016\n",
      "Mo Tu We Th Fr Sa Su\n",
      "    1  2  3  4  5  6\n",
      " 7  8  9 10 11 12 13\n",
      "14 15 16 17 18 19 20\n",
      "21 22 23 24 25 26 27\n",
      "28 29 30 31\n",
      "\n"
     ]
    }
   ],
   "source": [
    "\n",
    "print (calendar.month(2016,3))"
   ]
  },
  {
   "cell_type": "markdown",
   "metadata": {},
   "source": [
    "# decorater\n"
   ]
  },
  {
   "cell_type": "code",
   "execution_count": 70,
   "metadata": {},
   "outputs": [
    {
     "name": "stdout",
     "output_type": "stream",
     "text": [
      "Welcome to GeeksforGeeks\n"
     ]
    }
   ],
   "source": [
    "\n",
    "# Adds a welcome message to the string\n",
    "# returned by fun(). Takes fun() as\n",
    "# parameter and returns welcome().\n",
    "def decorate_message(fun):\n",
    " \n",
    "    # Nested function\n",
    "    def addWelcome(param):\n",
    "        return \"Welcome to \" + fun(param)\n",
    " \n",
    "    # Decorator returns a function\n",
    "    return addWelcome\n",
    " \n",
    "@decorate_message\n",
    "def site(site_nam):\n",
    "    return site_nam;\n",
    " \n",
    "# Driver code\n",
    " \n",
    "# This call is equivalent to call to\n",
    "# decorate_message() with function\n",
    "# site(\"GeeksforGeeks\") as parameter\n",
    "print (site(\"GeeksforGeeks\"))"
   ]
  },
  {
   "cell_type": "markdown",
   "metadata": {},
   "source": [
    "# http get post"
   ]
  },
  {
   "cell_type": "code",
   "execution_count": 15,
   "metadata": {},
   "outputs": [
    {
     "name": "stdout",
     "output_type": "stream",
     "text": [
      "Latitude:28.7499867\n",
      "Longitude:77.1183137\n",
      "Formatted Address:Delhi Technological University, Shahbad Daulatpur Village, Rohini, Delhi, 110042, India\n"
     ]
    }
   ],
   "source": [
    "# importing the requests library\n",
    "import requests\n",
    " \n",
    "# api-endpoint\n",
    "URL = \"http://maps.googleapis.com/maps/api/geocode/json\"\n",
    " \n",
    "# location given here\n",
    "location = \"delhi technological university\"\n",
    " \n",
    "# defining a params dict for the parameters to be sent to the API\n",
    "PARAMS = {'address':location}\n",
    " \n",
    "# sending get request and saving the response as response object\n",
    "r = requests.get(url = URL, params = PARAMS)\n",
    " \n",
    "# extracting data in json format\n",
    "data = r.json()\n",
    "\n",
    "# extracting latitude, longitude and formatted address \n",
    "# of the first matching location\n",
    "latitude = data['results'][0]['geometry']['location']['lat']\n",
    "longitude = data['results'][0]['geometry']['location']['lng']\n",
    "formatted_address = data['results'][0]['formatted_address']\n",
    " \n",
    "# printing the output\n",
    "print(\"Latitude:%s\\nLongitude:%s\\nFormatted Address:%s\"\n",
    "      %(latitude, longitude,formatted_address))"
   ]
  },
  {
   "cell_type": "markdown",
   "metadata": {
    "collapsed": true
   },
   "source": [
    "# xml json"
   ]
  },
  {
   "cell_type": "code",
   "execution_count": null,
   "metadata": {
    "collapsed": true
   },
   "outputs": [],
   "source": []
  },
  {
   "cell_type": "code",
   "execution_count": 17,
   "metadata": {},
   "outputs": [],
   "source": [
    "\n",
    ">>> import xml.etree.cElementTree as ET\n",
    ">>> tree = ET.parse('x.xml')"
   ]
  },
  {
   "cell_type": "code",
   "execution_count": 18,
   "metadata": {},
   "outputs": [
    {
     "name": "stdout",
     "output_type": "stream",
     "text": [
      "book {'id': 'bk101'}\n",
      "book {'id': 'bk102'}\n",
      "book {'id': 'bk103'}\n",
      "book {'id': 'bk104'}\n",
      "book {'id': 'bk105'}\n",
      "book {'id': 'bk106'}\n",
      "book {'id': 'bk107'}\n",
      "book {'id': 'bk108'}\n",
      "book {'id': 'bk109'}\n",
      "book {'id': 'bk110'}\n",
      "book {'id': 'bk111'}\n",
      "book {'id': 'bk112'}\n"
     ]
    }
   ],
   "source": [
    "root=tree.getroot()\n",
    "for child_of_root in root:\n",
    "    print (child_of_root.tag, child_of_root.attrib)"
   ]
  },
  {
   "cell_type": "code",
   "execution_count": 162,
   "metadata": {},
   "outputs": [
    {
     "name": "stdout",
     "output_type": "stream",
     "text": [
      "catalog {} \n",
      "   \n",
      "book {'id': 'bk101'} \n",
      "      \n",
      "author {} Gambardella, Matthew\n",
      "title {} XML Developer's Guide\n",
      "genre {} Computer\n",
      "price {} 44.95\n",
      "publish_date {} 2000-10-01\n",
      "description {} An in-depth look at creating applications \n",
      "      with XML.\n",
      "book {'id': 'bk102'} \n",
      "      \n",
      "author {} Ralls, Kim\n",
      "title {} Midnight Rain\n",
      "genre {} Fantasy\n",
      "price {} 5.95\n",
      "publish_date {} 2000-12-16\n",
      "description {} A former architect battles corporate zombies, \n",
      "      an evil sorceress, and her own childhood to become queen \n",
      "      of the world.\n",
      "book {'id': 'bk103'} \n",
      "      \n",
      "author {} Corets, Eva\n",
      "title {} Maeve Ascendant\n",
      "genre {} Fantasy\n",
      "price {} 5.95\n",
      "publish_date {} 2000-11-17\n",
      "description {} After the collapse of a nanotechnology \n",
      "      society in England, the young survivors lay the \n",
      "      foundation for a new society.\n",
      "book {'id': 'bk104'} \n",
      "      \n",
      "author {} Corets, Eva\n",
      "title {} Oberon's Legacy\n",
      "genre {} Fantasy\n",
      "price {} 5.95\n",
      "publish_date {} 2001-03-10\n",
      "description {} In post-apocalypse England, the mysterious \n",
      "      agent known only as Oberon helps to create a new life \n",
      "      for the inhabitants of London. Sequel to Maeve \n",
      "      Ascendant.\n",
      "book {'id': 'bk105'} \n",
      "      \n",
      "author {} Corets, Eva\n",
      "title {} The Sundered Grail\n",
      "genre {} Fantasy\n",
      "price {} 5.95\n",
      "publish_date {} 2001-09-10\n",
      "description {} The two daughters of Maeve, half-sisters, \n",
      "      battle one another for control of England. Sequel to \n",
      "      Oberon's Legacy.\n",
      "book {'id': 'bk106'} \n",
      "      \n",
      "author {} Randall, Cynthia\n",
      "title {} Lover Birds\n",
      "genre {} Romance\n",
      "price {} 4.95\n",
      "publish_date {} 2000-09-02\n",
      "description {} When Carla meets Paul at an ornithology \n",
      "      conference, tempers fly as feathers get ruffled.\n",
      "book {'id': 'bk107'} \n",
      "      \n",
      "author {} Thurman, Paula\n",
      "title {} Splish Splash\n",
      "genre {} Romance\n",
      "price {} 4.95\n",
      "publish_date {} 2000-11-02\n",
      "description {} A deep sea diver finds true love twenty \n",
      "      thousand leagues beneath the sea.\n",
      "book {'id': 'bk108'} \n",
      "      \n",
      "author {} Knorr, Stefan\n",
      "title {} Creepy Crawlies\n",
      "genre {} Horror\n",
      "price {} 4.95\n",
      "publish_date {} 2000-12-06\n",
      "description {} An anthology of horror stories about roaches,\n",
      "      centipedes, scorpions  and other insects.\n",
      "book {'id': 'bk109'} \n",
      "      \n",
      "author {} Kress, Peter\n",
      "title {} Paradox Lost\n",
      "genre {} Science Fiction\n",
      "price {} 6.95\n",
      "publish_date {} 2000-11-02\n",
      "description {} After an inadvertant trip through a Heisenberg\n",
      "      Uncertainty Device, James Salway discovers the problems \n",
      "      of being quantum.\n",
      "book {'id': 'bk110'} \n",
      "      \n",
      "author {} O'Brien, Tim\n",
      "title {} Microsoft .NET: The Programming Bible\n",
      "genre {} Computer\n",
      "price {} 36.95\n",
      "publish_date {} 2000-12-09\n",
      "description {} Microsoft's .NET initiative is explored in \n",
      "      detail in this deep programmer's reference.\n",
      "book {'id': 'bk111'} \n",
      "      \n",
      "author {} O'Brien, Tim\n",
      "title {} MSXML3: A Comprehensive Guide\n",
      "genre {} Computer\n",
      "price {} 36.95\n",
      "publish_date {} 2000-12-01\n",
      "description {} The Microsoft MSXML3 parser is covered in \n",
      "      detail, with attention to XML DOM interfaces, XSLT processing, \n",
      "      SAX and more.\n",
      "book {'id': 'bk112'} \n",
      "      \n",
      "author {} Galos, Mike\n",
      "title {} Visual Studio 7: A Comprehensive Guide\n",
      "genre {} Computer\n",
      "price {} 49.95\n",
      "publish_date {} 2001-04-16\n",
      "description {} Microsoft Visual Studio 7 is explored in depth,\n",
      "      looking at how Visual Basic, Visual C++, C#, and ASP+ are \n",
      "      integrated into a comprehensive development \n",
      "      environment.\n"
     ]
    }
   ],
   "source": [
    "for elem in tree.iter():\n",
    "    print (elem.tag, elem.attrib,elem.text)"
   ]
  },
  {
   "cell_type": "code",
   "execution_count": null,
   "metadata": {
    "collapsed": true
   },
   "outputs": [],
   "source": []
  },
  {
   "cell_type": "code",
   "execution_count": 21,
   "metadata": {},
   "outputs": [
    {
     "data": {
      "text/plain": [
       "<Element 'catalog' at 0x000001F6A515CAE8>"
      ]
     },
     "execution_count": 21,
     "metadata": {},
     "output_type": "execute_result"
    }
   ],
   "source": [
    "import xml.etree.ElementTree\n",
    "e = xml.etree.ElementTree.parse('x.xml').getroot()\n",
    "e"
   ]
  },
  {
   "cell_type": "code",
   "execution_count": null,
   "metadata": {
    "collapsed": true
   },
   "outputs": [],
   "source": []
  },
  {
   "cell_type": "code",
   "execution_count": 22,
   "metadata": {},
   "outputs": [
    {
     "ename": "FileNotFoundError",
     "evalue": "[Errno 2] No such file or directory: 'data.json'",
     "output_type": "error",
     "traceback": [
      "\u001b[1;31m---------------------------------------------------------------------------\u001b[0m",
      "\u001b[1;31mFileNotFoundError\u001b[0m                         Traceback (most recent call last)",
      "\u001b[1;32m<ipython-input-22-d771c1c7281d>\u001b[0m in \u001b[0;36m<module>\u001b[1;34m()\u001b[0m\n\u001b[0;32m      2\u001b[0m \u001b[1;32mfrom\u001b[0m \u001b[0mpprint\u001b[0m \u001b[1;32mimport\u001b[0m \u001b[0mpprint\u001b[0m\u001b[1;33m\u001b[0m\u001b[0m\n\u001b[0;32m      3\u001b[0m \u001b[1;33m\u001b[0m\u001b[0m\n\u001b[1;32m----> 4\u001b[1;33m \u001b[0mdata\u001b[0m \u001b[1;33m=\u001b[0m \u001b[0mjson\u001b[0m\u001b[1;33m.\u001b[0m\u001b[0mload\u001b[0m\u001b[1;33m(\u001b[0m\u001b[0mopen\u001b[0m\u001b[1;33m(\u001b[0m\u001b[1;34m'data.json'\u001b[0m\u001b[1;33m)\u001b[0m\u001b[1;33m)\u001b[0m\u001b[1;33m\u001b[0m\u001b[0m\n\u001b[0m\u001b[0;32m      5\u001b[0m \u001b[1;33m\u001b[0m\u001b[0m\n\u001b[0;32m      6\u001b[0m \u001b[0mpprint\u001b[0m\u001b[1;33m(\u001b[0m\u001b[0mdata\u001b[0m\u001b[1;33m)\u001b[0m\u001b[1;33m\u001b[0m\u001b[0m\n",
      "\u001b[1;31mFileNotFoundError\u001b[0m: [Errno 2] No such file or directory: 'data.json'"
     ]
    }
   ],
   "source": [
    "import json\n",
    "from pprint import pprint\n",
    "\n",
    "data = json.load(open('data.json'))\n",
    "\n",
    "pprint(data)"
   ]
  },
  {
   "cell_type": "code",
   "execution_count": 1,
   "metadata": {},
   "outputs": [],
   "source": [
    "#multithreading"
   ]
  },
  {
   "cell_type": "code",
   "execution_count": 15,
   "metadata": {},
   "outputs": [],
   "source": [
    "import multiprocessing\n",
    "\n",
    "def worker():\n",
    "    \"\"\"worker function\"\"\"\n",
    "    print (\"a\")\n",
    "    return\n",
    "\n"
   ]
  },
  {
   "cell_type": "code",
   "execution_count": 16,
   "metadata": {},
   "outputs": [],
   "source": [
    "if __name__ == '__main__':\n",
    "    \n",
    "    jobs = []\n",
    "    for i in range(5):\n",
    "        p = multiprocessing.Process(target=worker)\n",
    "        jobs.append(p)\n",
    "        p.start()"
   ]
  }
 ],
 "metadata": {
  "kernelspec": {
   "display_name": "Python 3",
   "language": "python",
   "name": "python3"
  },
  "language_info": {
   "codemirror_mode": {
    "name": "ipython",
    "version": 3
   },
   "file_extension": ".py",
   "mimetype": "text/x-python",
   "name": "python",
   "nbconvert_exporter": "python",
   "pygments_lexer": "ipython3",
   "version": "3.6.4"
  }
 },
 "nbformat": 4,
 "nbformat_minor": 2
}
