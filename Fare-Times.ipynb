{
 "cells": [
  {
   "cell_type": "markdown",
   "metadata": {},
   "source": [
    "# Loading data"
   ]
  },
  {
   "cell_type": "code",
   "execution_count": 526,
   "metadata": {},
   "outputs": [],
   "source": [
    "import pandas as pd\n",
    "import numpy as np\n",
    "\n",
    "df=pd.read_csv('train.csv')\n"
   ]
  },
  {
   "cell_type": "code",
   "execution_count": 486,
   "metadata": {},
   "outputs": [
    {
     "data": {
      "text/plain": [
       "Index(['ID', 'TIMESTAMP', 'STARTING_LATITUDE', 'STARTING_LONGITUDE',\n",
       "       'DESTINATION_LATITUDE', 'DESTINATION_LONGITUDE', 'VEHICLE_TYPE',\n",
       "       'TOTAL_LUGGAGE_WEIGHT', 'WAIT_TIME', 'TRAFFIC_STUCK_TIME', 'DISTANCE',\n",
       "       'FARE'],\n",
       "      dtype='object')"
      ]
     },
     "execution_count": 486,
     "metadata": {},
     "output_type": "execute_result"
    }
   ],
   "source": [
    "df.columns"
   ]
  },
  {
   "cell_type": "code",
   "execution_count": 527,
   "metadata": {},
   "outputs": [],
   "source": [
    "del df['ID']\n",
    "\n"
   ]
  },
  {
   "cell_type": "markdown",
   "metadata": {},
   "source": [
    "# #Missing values"
   ]
  },
  {
   "cell_type": "code",
   "execution_count": 528,
   "metadata": {},
   "outputs": [],
   "source": [
    "\n",
    "for c in df.columns:\n",
    "    if df[c].dtypes=='int64' or  df[c].dtypes=='float64':\n",
    "       df[c]=df[c].fillna(df[c].mean())\n",
    "    else:\n",
    "        \n",
    "       df[c]=df[c].fillna(df[c].mode())"
   ]
  },
  {
   "cell_type": "code",
   "execution_count": 529,
   "metadata": {},
   "outputs": [
    {
     "data": {
      "text/html": [
       "<div>\n",
       "<style>\n",
       "    .dataframe thead tr:only-child th {\n",
       "        text-align: right;\n",
       "    }\n",
       "\n",
       "    .dataframe thead th {\n",
       "        text-align: left;\n",
       "    }\n",
       "\n",
       "    .dataframe tbody tr th {\n",
       "        vertical-align: top;\n",
       "    }\n",
       "</style>\n",
       "<table border=\"1\" class=\"dataframe\">\n",
       "  <thead>\n",
       "    <tr style=\"text-align: right;\">\n",
       "      <th></th>\n",
       "      <th>TIMESTAMP</th>\n",
       "      <th>STARTING_LATITUDE</th>\n",
       "      <th>STARTING_LONGITUDE</th>\n",
       "      <th>DESTINATION_LATITUDE</th>\n",
       "      <th>DESTINATION_LONGITUDE</th>\n",
       "      <th>VEHICLE_TYPE</th>\n",
       "      <th>TOTAL_LUGGAGE_WEIGHT</th>\n",
       "      <th>WAIT_TIME</th>\n",
       "      <th>TRAFFIC_STUCK_TIME</th>\n",
       "      <th>DISTANCE</th>\n",
       "      <th>FARE</th>\n",
       "    </tr>\n",
       "  </thead>\n",
       "  <tbody>\n",
       "    <tr>\n",
       "      <th>0</th>\n",
       "      <td>2016-01-21 06:59:49</td>\n",
       "      <td>13.044677</td>\n",
       "      <td>80.235723</td>\n",
       "      <td>13.178228</td>\n",
       "      <td>80.163277</td>\n",
       "      <td>Bus</td>\n",
       "      <td>15.447238</td>\n",
       "      <td>9.433605</td>\n",
       "      <td>8</td>\n",
       "      <td>34</td>\n",
       "      <td>32.09</td>\n",
       "    </tr>\n",
       "    <tr>\n",
       "      <th>1</th>\n",
       "      <td>2016-06-17 22:23:30</td>\n",
       "      <td>28.639580</td>\n",
       "      <td>77.074113</td>\n",
       "      <td>28.587288</td>\n",
       "      <td>76.971306</td>\n",
       "      <td>Taxi AC</td>\n",
       "      <td>7.000000</td>\n",
       "      <td>9.000000</td>\n",
       "      <td>66</td>\n",
       "      <td>34</td>\n",
       "      <td>985.99</td>\n",
       "    </tr>\n",
       "    <tr>\n",
       "      <th>2</th>\n",
       "      <td>2016-03-16 04:55:18</td>\n",
       "      <td>25.373881</td>\n",
       "      <td>82.969570</td>\n",
       "      <td>25.349656</td>\n",
       "      <td>82.992587</td>\n",
       "      <td>Taxi Non AC</td>\n",
       "      <td>18.000000</td>\n",
       "      <td>6.000000</td>\n",
       "      <td>53</td>\n",
       "      <td>1</td>\n",
       "      <td>1085.33</td>\n",
       "    </tr>\n",
       "    <tr>\n",
       "      <th>3</th>\n",
       "      <td>2016-04-26 18:10:09</td>\n",
       "      <td>20.111445</td>\n",
       "      <td>79.794135</td>\n",
       "      <td>28.758384</td>\n",
       "      <td>77.011422</td>\n",
       "      <td>Metro</td>\n",
       "      <td>15.447238</td>\n",
       "      <td>9.433605</td>\n",
       "      <td>54</td>\n",
       "      <td>31</td>\n",
       "      <td>56.21</td>\n",
       "    </tr>\n",
       "    <tr>\n",
       "      <th>4</th>\n",
       "      <td>2016-06-22 01:51:35</td>\n",
       "      <td>22.543506</td>\n",
       "      <td>88.446273</td>\n",
       "      <td>22.706696</td>\n",
       "      <td>88.429522</td>\n",
       "      <td>bus</td>\n",
       "      <td>15.447238</td>\n",
       "      <td>9.433605</td>\n",
       "      <td>33</td>\n",
       "      <td>44</td>\n",
       "      <td>30.62</td>\n",
       "    </tr>\n",
       "  </tbody>\n",
       "</table>\n",
       "</div>"
      ],
      "text/plain": [
       "             TIMESTAMP  STARTING_LATITUDE  STARTING_LONGITUDE  \\\n",
       "0  2016-01-21 06:59:49          13.044677           80.235723   \n",
       "1  2016-06-17 22:23:30          28.639580           77.074113   \n",
       "2  2016-03-16 04:55:18          25.373881           82.969570   \n",
       "3  2016-04-26 18:10:09          20.111445           79.794135   \n",
       "4  2016-06-22 01:51:35          22.543506           88.446273   \n",
       "\n",
       "   DESTINATION_LATITUDE  DESTINATION_LONGITUDE VEHICLE_TYPE  \\\n",
       "0             13.178228              80.163277          Bus   \n",
       "1             28.587288              76.971306      Taxi AC   \n",
       "2             25.349656              82.992587  Taxi Non AC   \n",
       "3             28.758384              77.011422        Metro   \n",
       "4             22.706696              88.429522          bus   \n",
       "\n",
       "   TOTAL_LUGGAGE_WEIGHT  WAIT_TIME  TRAFFIC_STUCK_TIME  DISTANCE     FARE  \n",
       "0             15.447238   9.433605                   8        34    32.09  \n",
       "1              7.000000   9.000000                  66        34   985.99  \n",
       "2             18.000000   6.000000                  53         1  1085.33  \n",
       "3             15.447238   9.433605                  54        31    56.21  \n",
       "4             15.447238   9.433605                  33        44    30.62  "
      ]
     },
     "execution_count": 529,
     "metadata": {},
     "output_type": "execute_result"
    }
   ],
   "source": [
    "df.head()\n"
   ]
  },
  {
   "cell_type": "code",
   "execution_count": null,
   "metadata": {},
   "outputs": [],
   "source": []
  },
  {
   "cell_type": "code",
   "execution_count": 530,
   "metadata": {},
   "outputs": [],
   "source": [
    "a=[]\n",
    "b=[]\n",
    "c=[]\n",
    "\n",
    "for date in df['TIMESTAMP']:\n",
    "    a.append(date.split('-')[0])\n",
    "    b.append(date.split('-')[1])\n",
    "    c.append(date.split('-')[2].split(' ')[0])\n",
    "    "
   ]
  },
  {
   "cell_type": "code",
   "execution_count": 531,
   "metadata": {},
   "outputs": [],
   "source": [
    "df['y']=a\n",
    "df['m']=b\n",
    "df['d']=c\n",
    "del df['TIMESTAMP']"
   ]
  },
  {
   "cell_type": "code",
   "execution_count": 532,
   "metadata": {},
   "outputs": [],
   "source": [
    "for c in df.columns:\n",
    "    if len(df[df[c].isnull()==True][c])>0:\n",
    "        print(c)\n",
    "        del df[c]\n",
    "        "
   ]
  },
  {
   "cell_type": "markdown",
   "metadata": {},
   "source": [
    "# Encoding and scaling"
   ]
  },
  {
   "cell_type": "code",
   "execution_count": 533,
   "metadata": {},
   "outputs": [],
   "source": [
    "from sklearn import preprocessing\n",
    "y=df['FARE']   \n",
    "del df['FARE']\n",
    "\n",
    "\n",
    "for c in df.columns:\n",
    "     if df[c].dtypes!='int64' and  df[c].dtypes!='float64':\n",
    "       le=preprocessing.LabelEncoder().fit(df[c])\n",
    "       df[c] =le.transform(df[c])\n",
    "x=df"
   ]
  },
  {
   "cell_type": "code",
   "execution_count": 449,
   "metadata": {},
   "outputs": [
    {
     "name": "stdout",
     "output_type": "stream",
     "text": [
      "-0.044572909129\n",
      "-0.0446054801358\n",
      "-0.00133704576623\n",
      "-0.00528581980484\n",
      "-0.00784733922401\n",
      "-0.00877232866793\n"
     ]
    }
   ],
   "source": [
    "for i in x.columns:\n",
    "    if y.corr(x[i])<0:\n",
    "              print(y.corr(x[i]))\n",
    "              del x[i]\n",
    "    "
   ]
  },
  {
   "cell_type": "code",
   "execution_count": 450,
   "metadata": {},
   "outputs": [
    {
     "data": {
      "text/plain": [
       "(20000, 6)"
      ]
     },
     "execution_count": 450,
     "metadata": {},
     "output_type": "execute_result"
    }
   ],
   "source": [
    "x.shape\n"
   ]
  },
  {
   "cell_type": "code",
   "execution_count": 520,
   "metadata": {},
   "outputs": [],
   "source": [
    "from sklearn.preprocessing import StandardScaler,Normalizer\n",
    "scl=StandardScaler()\n",
    "\n",
    "x=scl.fit_transform(x)\n"
   ]
  },
  {
   "cell_type": "code",
   "execution_count": 344,
   "metadata": {},
   "outputs": [],
   "source": [
    "x.shape\n",
    "x=x[:,[0,2,4,6,7,8]]"
   ]
  },
  {
   "cell_type": "code",
   "execution_count": 159,
   "metadata": {},
   "outputs": [
    {
     "data": {
      "text/plain": [
       "(20000,)"
      ]
     },
     "execution_count": 159,
     "metadata": {},
     "output_type": "execute_result"
    }
   ],
   "source": [
    "y.shape\n",
    "x[:,1].shape"
   ]
  },
  {
   "cell_type": "code",
   "execution_count": 459,
   "metadata": {},
   "outputs": [
    {
     "data": {
      "text/plain": [
       "(20000, 7)"
      ]
     },
     "execution_count": 459,
     "metadata": {},
     "output_type": "execute_result"
    }
   ],
   "source": [
    "x.shape"
   ]
  },
  {
   "cell_type": "markdown",
   "metadata": {},
   "source": [
    "# Model comparision"
   ]
  },
  {
   "cell_type": "code",
   "execution_count": 534,
   "metadata": {},
   "outputs": [],
   "source": [
    "from sklearn.cross_validation import train_test_split\n",
    "#Xtrain = x.sample(frac=0.6, random_state=1)\n",
    "#ytrain=y.loc[y.index.isin(Xtrain.index)]\n",
    "#gets the left out portion of the dataset\n",
    "#Xtest = x.loc[~x.index.isin(Xtrain.index)]\n",
    "#ytest=y.loc[y.index.isin(Xtest.index)]\n",
    "Xtrain, Xtest, ytrain, ytest = train_test_split(x, y,test_size=0.4,)\n",
    "\n",
    "#"
   ]
  },
  {
   "cell_type": "code",
   "execution_count": 535,
   "metadata": {},
   "outputs": [
    {
     "name": "stdout",
     "output_type": "stream",
     "text": [
      "Random forest --- 16803.3600184 0.81100661216\n",
      "Gradient Boosting  --- 17309.3183324 0.805315918408\n",
      "XG Boosting  --- 16494.3480278 0.814482180316\n",
      "Linear  --- 74488.9372895 0.162196334574\n"
     ]
    }
   ],
   "source": [
    "\n",
    "from sklearn.preprocessing import StandardScaler,Normalizer\n",
    "scl=StandardScaler()\n",
    "\n",
    "#Xtrain=scl.fit_transform(Xtrain)\n",
    "\n",
    "#Xtest=scl.fit_transform(Xtest)\n",
    "\n",
    "\n",
    "Compare(Xtrain, Xtest, ytrain, ytest) "
   ]
  },
  {
   "cell_type": "code",
   "execution_count": 378,
   "metadata": {},
   "outputs": [],
   "source": [
    "def Compare(Xtrain, Xtest, ytrain, ytest):\n",
    "\n",
    "    #Random forest\n",
    " from sklearn.ensemble import RandomForestRegressor\n",
    " rf=RandomForestRegressor(n_estimators=100, criterion='mse', max_depth=None, min_samples_split=2, min_samples_leaf=1,\n",
    "                         \n",
    "                         min_weight_fraction_leaf=0.0, max_features='auto', max_leaf_nodes=None, min_impurity_decrease=0.0, min_impurity_split=None,\n",
    "                         bootstrap=True, oob_score=False, n_jobs=2, random_state=None, verbose=0, warm_start=False)\n",
    "\n",
    " rf.fit(Xtrain,ytrain)\n",
    " y_pred=rf.predict(Xtest)\n",
    " y_pred\n",
    " from sklearn.metrics import mean_squared_error,r2_score\n",
    " mse=mean_squared_error(ytest,y_pred)\n",
    " print(\"Random forest\",\"---\",mse,r2_score(ytest,y_pred))\n",
    "\n",
    " #Gradient\n",
    " from sklearn.ensemble import GradientBoostingRegressor\n",
    " reg=GradientBoostingRegressor(loss='ls', learning_rate=0.2, n_estimators=100, subsample=1.0,\n",
    "                              criterion='friedman_mse', min_samples_split=2, min_samples_leaf=1, min_weight_fraction_leaf=0.0, max_depth=3,\n",
    "                              min_impurity_decrease=0.0, min_impurity_split=None, init=None, random_state=None, max_features=None, \n",
    "                              alpha=0.1,\n",
    "                              verbose=0, max_leaf_nodes=None, warm_start=False, presort='auto')\n",
    " reg.fit(Xtrain,ytrain)\n",
    " y_pred=reg.predict(Xtest)\n",
    " y_pred\n",
    " from sklearn.metrics import mean_squared_error,r2_score\n",
    " mse=mean_squared_error(ytest,y_pred)\n",
    "\n",
    " print(\"Gradient Boosting \",\"---\",mse,r2_score(ytest,y_pred))\n",
    "\n",
    " #XGBOOSt\n",
    " import xgboost\n",
    " # Let's try XGboost algorithm to see if we can get better results\n",
    " xgb = xgboost.XGBRegressor(max_depth=4, learning_rate=0.1, n_estimators=100, silent=True, objective='reg:linear', nthread=-1, gamma=0, \n",
    "                           \n",
    "                           min_child_weight=1,\n",
    "                           max_delta_step=0, subsample=1,\n",
    "                           colsample_bytree=1, colsample_bylevel=1, reg_alpha=0, reg_lambda=1, scale_pos_weight=1, \n",
    "                           base_score=0.5, seed=0, missing=None)\n",
    " xgb.fit(Xtrain,ytrain)\n",
    " y_pred=xgb.predict(Xtest)\n",
    " y_pred\n",
    " from sklearn.metrics import mean_squared_error,r2_score\n",
    " mse=mean_squared_error(ytest,y_pred)\n",
    " print(\"XG Boosting \",\"---\",mse,r2_score(ytest,y_pred))\n",
    "\n",
    "\n",
    " #linear regression\n",
    " from sklearn.linear_model import LinearRegression\n",
    " reg=LinearRegression(fit_intercept=True, normalize=False, copy_X=True, n_jobs=1)\n",
    " reg.fit(Xtrain,ytrain)\n",
    " y_pred=reg.predict(Xtest)\n",
    "\n",
    " from sklearn.metrics import mean_squared_error,r2_score\n",
    " mse=mean_squared_error(ytest,y_pred)\n",
    " print(\"Linear \",\"---\",mse,r2_score(ytest,y_pred))"
   ]
  },
  {
   "cell_type": "code",
   "execution_count": 69,
   "metadata": {},
   "outputs": [
    {
     "data": {
      "text/plain": [
       "PCA(copy=True, iterated_power='auto', n_components=8, random_state=None,\n",
       "  svd_solver='auto', tol=0.0, whiten=False)"
      ]
     },
     "execution_count": 69,
     "metadata": {},
     "output_type": "execute_result"
    }
   ],
   "source": [
    "from sklearn.decomposition import PCA\n",
    "p=PCA(n_components=df.shape[1]-1, copy=True, whiten=False, svd_solver='auto', tol=0.0, iterated_power='auto', random_state=None)\n",
    "p.fit(x)"
   ]
  },
  {
   "cell_type": "code",
   "execution_count": 70,
   "metadata": {},
   "outputs": [
    {
     "data": {
      "text/plain": [
       "array([ 2.4,  1.6,  1.4,  1. ,  1. ,  1. ,  0.5,  0. ])"
      ]
     },
     "execution_count": 70,
     "metadata": {},
     "output_type": "execute_result"
    }
   ],
   "source": [
    "v=p.explained_variance_\n",
    "v=np.round(v,1)\n",
    "v"
   ]
  },
  {
   "cell_type": "code",
   "execution_count": 71,
   "metadata": {},
   "outputs": [
    {
     "data": {
      "text/plain": [
       "array([[-1.08375974, -1.05724232, -0.96459285],\n",
       "       [ 0.81732916,  1.57828297,  1.92236588],\n",
       "       [ 1.66472225,  0.44778864, -0.71390819],\n",
       "       ..., \n",
       "       [-0.95980204, -0.93338656, -1.33012158],\n",
       "       [-1.7518892 , -0.80563077,  0.03506602],\n",
       "       [-1.86964098, -1.13042683,  1.32797515]])"
      ]
     },
     "execution_count": 71,
     "metadata": {},
     "output_type": "execute_result"
    }
   ],
   "source": [
    "from sklearn.decomposition import PCA\n",
    "p=PCA(n_components=3, copy=True, whiten=False, svd_solver='auto', tol=0.0, iterated_power='auto', random_state=None)\n",
    "x=p.fit(x).transform(x)\n",
    "x"
   ]
  },
  {
   "cell_type": "code",
   "execution_count": 56,
   "metadata": {},
   "outputs": [
    {
     "data": {
      "text/plain": [
       "PCA(copy=True, iterated_power='auto', n_components=3, random_state=None,\n",
       "  svd_solver='auto', tol=0.0, whiten=False)"
      ]
     },
     "execution_count": 56,
     "metadata": {},
     "output_type": "execute_result"
    }
   ],
   "source": [
    "x"
   ]
  },
  {
   "cell_type": "code",
   "execution_count": 111,
   "metadata": {},
   "outputs": [],
   "source": [
    "import matplotlib.pyplot as mlt"
   ]
  },
  {
   "cell_type": "code",
   "execution_count": 112,
   "metadata": {},
   "outputs": [
    {
     "data": {
      "text/plain": [
       "[<matplotlib.lines.Line2D at 0x242d9501d68>]"
      ]
     },
     "execution_count": 112,
     "metadata": {},
     "output_type": "execute_result"
    },
    {
     "data": {
      "image/png": "[encoded data removed]",
      "text/plain": [
       "<matplotlib.figure.Figure at 0x242d9451ba8>"
      ]
     },
     "metadata": {},
     "output_type": "display_data"
    }
   ],
   "source": [
    "mlt.plot(v)"
   ]
  },
  {
   "cell_type": "code",
   "execution_count": 98,
   "metadata": {},
   "outputs": [
    {
     "data": {
      "text/plain": [
       "(1460, 65)"
      ]
     },
     "execution_count": 98,
     "metadata": {},
     "output_type": "execute_result"
    }
   ],
   "source": [
    "df.shape"
   ]
  },
  {
   "cell_type": "markdown",
   "metadata": {},
   "source": [
    "# Preparing models"
   ]
  },
  {
   "cell_type": "code",
   "execution_count": null,
   "metadata": {},
   "outputs": [],
   "source": [
    "#Random forest"
   ]
  },
  {
   "cell_type": "code",
   "execution_count": 178,
   "metadata": {},
   "outputs": [
    {
     "name": "stdout",
     "output_type": "stream",
     "text": [
      "16812.3781986 0.817647014774\n"
     ]
    }
   ],
   "source": [
    "from sklearn.ensemble import RandomForestRegressor\n",
    "\n",
    "    \n",
    "rf=RandomForestRegressor(n_estimators=100, criterion='mse', max_depth=None, min_samples_split=2, min_samples_leaf=1,\n",
    "                         \n",
    "                         min_weight_fraction_leaf=0.0, max_features='auto', max_leaf_nodes=None, min_impurity_decrease=0.0, min_impurity_split=None,\n",
    "                         bootstrap=True, oob_score=False, n_jobs=2, random_state=None, verbose=0, warm_start=False)\n",
    "\n",
    "rf.fit(Xtrain,ytrain)\n",
    "y_pred=rf.predict(Xtest)\n",
    "y_pred\n",
    "from sklearn.metrics import mean_squared_error,r2_score\n",
    "mse=mean_squared_error(ytest,y_pred)\n",
    "print(mse,r2_score(ytest,y_pred))"
   ]
  },
  {
   "cell_type": "code",
   "execution_count": null,
   "metadata": {},
   "outputs": [],
   "source": [
    "#gradient\n"
   ]
  },
  {
   "cell_type": "code",
   "execution_count": 135,
   "metadata": {},
   "outputs": [
    {
     "name": "stdout",
     "output_type": "stream",
     "text": [
      "27924.6879551 0.679154823145 9\n"
     ]
    }
   ],
   "source": [
    "from sklearn.ensemble import GradientBoostingRegressor\n",
    "mse=100000000000000000\n",
    "r2=-111111111\n",
    "for i in range(1 , 10):\n",
    " ba=GradientBoostingRegressor(loss='ls', learning_rate=i/100\n",
    "                             , n_estimators=1000, subsample=1.0,\n",
    "                              criterion='friedman_mse', min_samples_split=2, min_samples_leaf=1, min_weight_fraction_leaf=0.0, max_depth=3,\n",
    "                              min_impurity_decrease=0.0, min_impurity_split=None, init=None, random_state=None, max_features=None, \n",
    "                              alpha=0.1,\n",
    "                              verbose=0, max_leaf_nodes=2, warm_start=False, presort='auto')\n",
    " ba.fit(Xtrain,ytrain)\n",
    " y_pred=ba.predict(Xtest)\n",
    " \n",
    " from sklearn.metrics import mean_squared_error,r2_score\n",
    " if r2_score(ytest,y_pred)>r2 :\n",
    "          mse=mean_squared_error(ytest,y_pred)\n",
    "          v=i\n",
    "          r2=r2_score(ytest,y_pred)\n",
    "       \n",
    "\n",
    "  #if r2_score(ytest,y_pred)>.88:\n",
    "    \n",
    "print(mse,r2,i)\n",
    "\n",
    "\n"
   ]
  },
  {
   "cell_type": "code",
   "execution_count": null,
   "metadata": {},
   "outputs": [],
   "source": [
    "#xgboost"
   ]
  },
  {
   "cell_type": "code",
   "execution_count": 244,
   "metadata": {},
   "outputs": [
    {
     "name": "stdout",
     "output_type": "stream",
     "text": [
      "13379.4748626 0.84814303004 4\n"
     ]
    }
   ],
   "source": [
    "from sklearn.decomposition import PCA\n",
    "from sklearn.metrics import mean_squared_error,r2_score\n",
    "mse=10000000000000\n",
    "r2=-1000\n",
    "import xgboost\n",
    "for k in range(1,5):\n",
    "   \n",
    "    # Let's try XGboost algorithm to see if we can get better results\n",
    "       xgb = xgboost.XGBRegressor(max_depth=k, learning_rate=k/100\n",
    "                             , n_estimators=k*100, silent=True, objective='reg:linear', nthread=1, gamma=0, \n",
    "                           \n",
    "                           min_child_weight=1,\n",
    "                           max_delta_step=0, subsample=1,\n",
    "                           colsample_bytree=1, colsample_bylevel=1, reg_alpha=0, reg_lambda=2, scale_pos_weight=2, \n",
    "                           base_score=0.1, seed=0, missing=None)\n",
    "       xgb.fit(Xtrain,ytrain)\n",
    "       y_pred=xgb.predict(Xtest)\n",
    "    \n",
    "       if r2_score(ytest,y_pred)>r2 :\n",
    "          mse=mean_squared_error(ytest,y_pred)\n",
    "          v=k\n",
    "          r2=r2_score(ytest,y_pred)\n",
    "       \n",
    "\n",
    "  #if r2_score(ytest,y_pred)>.88:\n",
    "    \n",
    "print(mse,r2,v)\n"
   ]
  },
  {
   "cell_type": "code",
   "execution_count": 550,
   "metadata": {},
   "outputs": [
    {
     "name": "stdout",
     "output_type": "stream",
     "text": [
      "15666.8439687 0.823789413834\n"
     ]
    }
   ],
   "source": [
    "xgb = xgboost.XGBRegressor(max_depth=7, learning_rate=.01\n",
    "                             , n_estimators=1000, silent=True, objective='reg:linear', nthread=2, gamma=0, \n",
    "                           \n",
    "                           min_child_weight=1,\n",
    "                           max_delta_step=0, subsample=1,\n",
    "                           colsample_bytree=1, colsample_bylevel=1, reg_alpha=0, reg_lambda=2, scale_pos_weight=2, \n",
    "                           base_score=0.1, seed=0, missing=None)\n",
    "xgb.fit(Xtrain,ytrain)\n",
    "y_pred=xgb.predict(Xtest)\n",
    "    \n",
    "\n",
    "mse=mean_squared_error(ytest,y_pred)\n",
    "r2=r2_score(ytest,y_pred)\n",
    "print(mse,r2)"
   ]
  },
  {
   "cell_type": "code",
   "execution_count": 540,
   "metadata": {},
   "outputs": [
    {
     "data": {
      "text/plain": [
       "(12000, 12)"
      ]
     },
     "execution_count": 540,
     "metadata": {},
     "output_type": "execute_result"
    }
   ],
   "source": [
    "Xtrain.shape"
   ]
  },
  {
   "cell_type": "code",
   "execution_count": null,
   "metadata": {},
   "outputs": [],
   "source": []
  },
  {
   "cell_type": "code",
   "execution_count": null,
   "metadata": {},
   "outputs": [],
   "source": []
  },
  {
   "cell_type": "markdown",
   "metadata": {},
   "source": [
    "# prediction"
   ]
  },
  {
   "cell_type": "code",
   "execution_count": 423,
   "metadata": {},
   "outputs": [
    {
     "data": {
      "text/html": [
       "<div>\n",
       "<style>\n",
       "    .dataframe thead tr:only-child th {\n",
       "        text-align: right;\n",
       "    }\n",
       "\n",
       "    .dataframe thead th {\n",
       "        text-align: left;\n",
       "    }\n",
       "\n",
       "    .dataframe tbody tr th {\n",
       "        vertical-align: top;\n",
       "    }\n",
       "</style>\n",
       "<table border=\"1\" class=\"dataframe\">\n",
       "  <thead>\n",
       "    <tr style=\"text-align: right;\">\n",
       "      <th></th>\n",
       "      <th>ID</th>\n",
       "      <th>TIMESTAMP</th>\n",
       "      <th>STARTING_LATITUDE</th>\n",
       "      <th>STARTING_LONGITUDE</th>\n",
       "      <th>DESTINATION_LATITUDE</th>\n",
       "      <th>DESTINATION_LONGITUDE</th>\n",
       "      <th>VEHICLE_TYPE</th>\n",
       "      <th>TOTAL_LUGGAGE_WEIGHT</th>\n",
       "      <th>WAIT_TIME</th>\n",
       "      <th>TRAFFIC_STUCK_TIME</th>\n",
       "      <th>DISTANCE</th>\n",
       "    </tr>\n",
       "  </thead>\n",
       "  <tbody>\n",
       "    <tr>\n",
       "      <th>0</th>\n",
       "      <td>1</td>\n",
       "      <td>2016-07-19 06:56:22</td>\n",
       "      <td>28.666631</td>\n",
       "      <td>77.092389</td>\n",
       "      <td>28.642983</td>\n",
       "      <td>77.048942</td>\n",
       "      <td>metro</td>\n",
       "      <td>NaN</td>\n",
       "      <td>NaN</td>\n",
       "      <td>10</td>\n",
       "      <td>17</td>\n",
       "    </tr>\n",
       "    <tr>\n",
       "      <th>1</th>\n",
       "      <td>2</td>\n",
       "      <td>2016-01-10 16:56:22</td>\n",
       "      <td>12.863124</td>\n",
       "      <td>77.465198</td>\n",
       "      <td>12.983202</td>\n",
       "      <td>77.495464</td>\n",
       "      <td>metro</td>\n",
       "      <td>NaN</td>\n",
       "      <td>NaN</td>\n",
       "      <td>28</td>\n",
       "      <td>27</td>\n",
       "    </tr>\n",
       "    <tr>\n",
       "      <th>2</th>\n",
       "      <td>3</td>\n",
       "      <td>2015-07-14 09:49:33</td>\n",
       "      <td>19.203644</td>\n",
       "      <td>72.861170</td>\n",
       "      <td>19.161556</td>\n",
       "      <td>72.839699</td>\n",
       "      <td>ac bus</td>\n",
       "      <td>NaN</td>\n",
       "      <td>NaN</td>\n",
       "      <td>34</td>\n",
       "      <td>45</td>\n",
       "    </tr>\n",
       "    <tr>\n",
       "      <th>3</th>\n",
       "      <td>4</td>\n",
       "      <td>2015-03-24 10:06:18</td>\n",
       "      <td>28.668365</td>\n",
       "      <td>77.030327</td>\n",
       "      <td>28.705053</td>\n",
       "      <td>77.080778</td>\n",
       "      <td>Metro</td>\n",
       "      <td>NaN</td>\n",
       "      <td>NaN</td>\n",
       "      <td>17</td>\n",
       "      <td>14</td>\n",
       "    </tr>\n",
       "    <tr>\n",
       "      <th>4</th>\n",
       "      <td>5</td>\n",
       "      <td>2016-04-05 23:03:14</td>\n",
       "      <td>13.050678</td>\n",
       "      <td>80.212654</td>\n",
       "      <td>13.118577</td>\n",
       "      <td>80.234702</td>\n",
       "      <td>Mini bus</td>\n",
       "      <td>NaN</td>\n",
       "      <td>NaN</td>\n",
       "      <td>9</td>\n",
       "      <td>10</td>\n",
       "    </tr>\n",
       "  </tbody>\n",
       "</table>\n",
       "</div>"
      ],
      "text/plain": [
       "   ID            TIMESTAMP  STARTING_LATITUDE  STARTING_LONGITUDE  \\\n",
       "0   1  2016-07-19 06:56:22          28.666631           77.092389   \n",
       "1   2  2016-01-10 16:56:22          12.863124           77.465198   \n",
       "2   3  2015-07-14 09:49:33          19.203644           72.861170   \n",
       "3   4  2015-03-24 10:06:18          28.668365           77.030327   \n",
       "4   5  2016-04-05 23:03:14          13.050678           80.212654   \n",
       "\n",
       "   DESTINATION_LATITUDE  DESTINATION_LONGITUDE VEHICLE_TYPE  \\\n",
       "0             28.642983              77.048942        metro   \n",
       "1             12.983202              77.495464        metro   \n",
       "2             19.161556              72.839699       ac bus   \n",
       "3             28.705053              77.080778        Metro   \n",
       "4             13.118577              80.234702     Mini bus   \n",
       "\n",
       "   TOTAL_LUGGAGE_WEIGHT  WAIT_TIME  TRAFFIC_STUCK_TIME  DISTANCE  \n",
       "0                   NaN        NaN                  10        17  \n",
       "1                   NaN        NaN                  28        27  \n",
       "2                   NaN        NaN                  34        45  \n",
       "3                   NaN        NaN                  17        14  \n",
       "4                   NaN        NaN                   9        10  "
      ]
     },
     "execution_count": 423,
     "metadata": {},
     "output_type": "execute_result"
    }
   ],
   "source": [
    "df1=pd.read_csv('test.csv')\n",
    "df1.head()"
   ]
  },
  {
   "cell_type": "code",
   "execution_count": 282,
   "metadata": {},
   "outputs": [
    {
     "data": {
      "text/html": [
       "<div>\n",
       "<style>\n",
       "    .dataframe thead tr:only-child th {\n",
       "        text-align: right;\n",
       "    }\n",
       "\n",
       "    .dataframe thead th {\n",
       "        text-align: left;\n",
       "    }\n",
       "\n",
       "    .dataframe tbody tr th {\n",
       "        vertical-align: top;\n",
       "    }\n",
       "</style>\n",
       "<table border=\"1\" class=\"dataframe\">\n",
       "  <thead>\n",
       "    <tr style=\"text-align: right;\">\n",
       "      <th></th>\n",
       "      <th>STARTING_LATITUDE</th>\n",
       "      <th>STARTING_LONGITUDE</th>\n",
       "      <th>DESTINATION_LATITUDE</th>\n",
       "      <th>DESTINATION_LONGITUDE</th>\n",
       "      <th>VEHICLE_TYPE</th>\n",
       "      <th>TOTAL_LUGGAGE_WEIGHT</th>\n",
       "      <th>WAIT_TIME</th>\n",
       "      <th>TRAFFIC_STUCK_TIME</th>\n",
       "      <th>DISTANCE</th>\n",
       "    </tr>\n",
       "  </thead>\n",
       "  <tbody>\n",
       "    <tr>\n",
       "      <th>0</th>\n",
       "      <td>28.666631</td>\n",
       "      <td>77.092389</td>\n",
       "      <td>28.642983</td>\n",
       "      <td>77.048942</td>\n",
       "      <td>metro</td>\n",
       "      <td>NaN</td>\n",
       "      <td>NaN</td>\n",
       "      <td>10</td>\n",
       "      <td>17</td>\n",
       "    </tr>\n",
       "    <tr>\n",
       "      <th>1</th>\n",
       "      <td>12.863124</td>\n",
       "      <td>77.465198</td>\n",
       "      <td>12.983202</td>\n",
       "      <td>77.495464</td>\n",
       "      <td>metro</td>\n",
       "      <td>NaN</td>\n",
       "      <td>NaN</td>\n",
       "      <td>28</td>\n",
       "      <td>27</td>\n",
       "    </tr>\n",
       "    <tr>\n",
       "      <th>2</th>\n",
       "      <td>19.203644</td>\n",
       "      <td>72.861170</td>\n",
       "      <td>19.161556</td>\n",
       "      <td>72.839699</td>\n",
       "      <td>ac bus</td>\n",
       "      <td>NaN</td>\n",
       "      <td>NaN</td>\n",
       "      <td>34</td>\n",
       "      <td>45</td>\n",
       "    </tr>\n",
       "    <tr>\n",
       "      <th>3</th>\n",
       "      <td>28.668365</td>\n",
       "      <td>77.030327</td>\n",
       "      <td>28.705053</td>\n",
       "      <td>77.080778</td>\n",
       "      <td>Metro</td>\n",
       "      <td>NaN</td>\n",
       "      <td>NaN</td>\n",
       "      <td>17</td>\n",
       "      <td>14</td>\n",
       "    </tr>\n",
       "    <tr>\n",
       "      <th>4</th>\n",
       "      <td>13.050678</td>\n",
       "      <td>80.212654</td>\n",
       "      <td>13.118577</td>\n",
       "      <td>80.234702</td>\n",
       "      <td>Mini bus</td>\n",
       "      <td>NaN</td>\n",
       "      <td>NaN</td>\n",
       "      <td>9</td>\n",
       "      <td>10</td>\n",
       "    </tr>\n",
       "  </tbody>\n",
       "</table>\n",
       "</div>"
      ],
      "text/plain": [
       "   STARTING_LATITUDE  STARTING_LONGITUDE  DESTINATION_LATITUDE  \\\n",
       "0          28.666631           77.092389             28.642983   \n",
       "1          12.863124           77.465198             12.983202   \n",
       "2          19.203644           72.861170             19.161556   \n",
       "3          28.668365           77.030327             28.705053   \n",
       "4          13.050678           80.212654             13.118577   \n",
       "\n",
       "   DESTINATION_LONGITUDE VEHICLE_TYPE  TOTAL_LUGGAGE_WEIGHT  WAIT_TIME  \\\n",
       "0              77.048942        metro                   NaN        NaN   \n",
       "1              77.495464        metro                   NaN        NaN   \n",
       "2              72.839699       ac bus                   NaN        NaN   \n",
       "3              77.080778        Metro                   NaN        NaN   \n",
       "4              80.234702     Mini bus                   NaN        NaN   \n",
       "\n",
       "   TRAFFIC_STUCK_TIME  DISTANCE  \n",
       "0                  10        17  \n",
       "1                  28        27  \n",
       "2                  34        45  \n",
       "3                  17        14  \n",
       "4                   9        10  "
      ]
     },
     "execution_count": 282,
     "metadata": {},
     "output_type": "execute_result"
    }
   ],
   "source": [
    "df1=pd.read_csv('test.csv')\n",
    "Ids=df1['ID']\n",
    "del df1['ID']\n",
    "del df1['TIMESTAMP']\n",
    "df1.head()"
   ]
  },
  {
   "cell_type": "code",
   "execution_count": null,
   "metadata": {},
   "outputs": [],
   "source": []
  },
  {
   "cell_type": "code",
   "execution_count": 283,
   "metadata": {},
   "outputs": [],
   "source": [
    "#Missing values\n",
    "for c in df1.columns:\n",
    "    if df1[c].dtypes=='int64' or  df1[c].dtypes=='float64':\n",
    "       df1[c]=df1[c].fillna(df1[c].mean())\n",
    "    else:\n",
    "        \n",
    "       df1[c]=df1[c].fillna(df1[c].mode())"
   ]
  },
  {
   "cell_type": "code",
   "execution_count": 284,
   "metadata": {},
   "outputs": [
    {
     "data": {
      "text/html": [
       "<div>\n",
       "<style>\n",
       "    .dataframe thead tr:only-child th {\n",
       "        text-align: right;\n",
       "    }\n",
       "\n",
       "    .dataframe thead th {\n",
       "        text-align: left;\n",
       "    }\n",
       "\n",
       "    .dataframe tbody tr th {\n",
       "        vertical-align: top;\n",
       "    }\n",
       "</style>\n",
       "<table border=\"1\" class=\"dataframe\">\n",
       "  <thead>\n",
       "    <tr style=\"text-align: right;\">\n",
       "      <th></th>\n",
       "      <th>STARTING_LATITUDE</th>\n",
       "      <th>STARTING_LONGITUDE</th>\n",
       "      <th>DESTINATION_LATITUDE</th>\n",
       "      <th>DESTINATION_LONGITUDE</th>\n",
       "      <th>VEHICLE_TYPE</th>\n",
       "      <th>TOTAL_LUGGAGE_WEIGHT</th>\n",
       "      <th>WAIT_TIME</th>\n",
       "      <th>TRAFFIC_STUCK_TIME</th>\n",
       "      <th>DISTANCE</th>\n",
       "    </tr>\n",
       "  </thead>\n",
       "  <tbody>\n",
       "    <tr>\n",
       "      <th>0</th>\n",
       "      <td>28.666631</td>\n",
       "      <td>77.092389</td>\n",
       "      <td>28.642983</td>\n",
       "      <td>77.048942</td>\n",
       "      <td>metro</td>\n",
       "      <td>15.441366</td>\n",
       "      <td>9.604112</td>\n",
       "      <td>10</td>\n",
       "      <td>17</td>\n",
       "    </tr>\n",
       "    <tr>\n",
       "      <th>1</th>\n",
       "      <td>12.863124</td>\n",
       "      <td>77.465198</td>\n",
       "      <td>12.983202</td>\n",
       "      <td>77.495464</td>\n",
       "      <td>metro</td>\n",
       "      <td>15.441366</td>\n",
       "      <td>9.604112</td>\n",
       "      <td>28</td>\n",
       "      <td>27</td>\n",
       "    </tr>\n",
       "    <tr>\n",
       "      <th>2</th>\n",
       "      <td>19.203644</td>\n",
       "      <td>72.861170</td>\n",
       "      <td>19.161556</td>\n",
       "      <td>72.839699</td>\n",
       "      <td>ac bus</td>\n",
       "      <td>15.441366</td>\n",
       "      <td>9.604112</td>\n",
       "      <td>34</td>\n",
       "      <td>45</td>\n",
       "    </tr>\n",
       "    <tr>\n",
       "      <th>3</th>\n",
       "      <td>28.668365</td>\n",
       "      <td>77.030327</td>\n",
       "      <td>28.705053</td>\n",
       "      <td>77.080778</td>\n",
       "      <td>Metro</td>\n",
       "      <td>15.441366</td>\n",
       "      <td>9.604112</td>\n",
       "      <td>17</td>\n",
       "      <td>14</td>\n",
       "    </tr>\n",
       "    <tr>\n",
       "      <th>4</th>\n",
       "      <td>13.050678</td>\n",
       "      <td>80.212654</td>\n",
       "      <td>13.118577</td>\n",
       "      <td>80.234702</td>\n",
       "      <td>Mini bus</td>\n",
       "      <td>15.441366</td>\n",
       "      <td>9.604112</td>\n",
       "      <td>9</td>\n",
       "      <td>10</td>\n",
       "    </tr>\n",
       "  </tbody>\n",
       "</table>\n",
       "</div>"
      ],
      "text/plain": [
       "   STARTING_LATITUDE  STARTING_LONGITUDE  DESTINATION_LATITUDE  \\\n",
       "0          28.666631           77.092389             28.642983   \n",
       "1          12.863124           77.465198             12.983202   \n",
       "2          19.203644           72.861170             19.161556   \n",
       "3          28.668365           77.030327             28.705053   \n",
       "4          13.050678           80.212654             13.118577   \n",
       "\n",
       "   DESTINATION_LONGITUDE VEHICLE_TYPE  TOTAL_LUGGAGE_WEIGHT  WAIT_TIME  \\\n",
       "0              77.048942        metro             15.441366   9.604112   \n",
       "1              77.495464        metro             15.441366   9.604112   \n",
       "2              72.839699       ac bus             15.441366   9.604112   \n",
       "3              77.080778        Metro             15.441366   9.604112   \n",
       "4              80.234702     Mini bus             15.441366   9.604112   \n",
       "\n",
       "   TRAFFIC_STUCK_TIME  DISTANCE  \n",
       "0                  10        17  \n",
       "1                  28        27  \n",
       "2                  34        45  \n",
       "3                  17        14  \n",
       "4                   9        10  "
      ]
     },
     "execution_count": 284,
     "metadata": {},
     "output_type": "execute_result"
    }
   ],
   "source": [
    "df1.head()"
   ]
  },
  {
   "cell_type": "code",
   "execution_count": 285,
   "metadata": {},
   "outputs": [],
   "source": [
    " \n",
    "for c in df1.columns:\n",
    "     if df1[c].dtypes!='int64' and  df1[c].dtypes!='float64':\n",
    "       le=preprocessing.LabelEncoder().fit(df1[c])\n",
    "       df1[c] =le.transform(df1[c])\n",
    "x11=df1"
   ]
  },
  {
   "cell_type": "code",
   "execution_count": 286,
   "metadata": {},
   "outputs": [
    {
     "data": {
      "text/html": [
       "<div>\n",
       "<style>\n",
       "    .dataframe thead tr:only-child th {\n",
       "        text-align: right;\n",
       "    }\n",
       "\n",
       "    .dataframe thead th {\n",
       "        text-align: left;\n",
       "    }\n",
       "\n",
       "    .dataframe tbody tr th {\n",
       "        vertical-align: top;\n",
       "    }\n",
       "</style>\n",
       "<table border=\"1\" class=\"dataframe\">\n",
       "  <thead>\n",
       "    <tr style=\"text-align: right;\">\n",
       "      <th></th>\n",
       "      <th>STARTING_LATITUDE</th>\n",
       "      <th>STARTING_LONGITUDE</th>\n",
       "      <th>DESTINATION_LATITUDE</th>\n",
       "      <th>DESTINATION_LONGITUDE</th>\n",
       "      <th>VEHICLE_TYPE</th>\n",
       "      <th>TOTAL_LUGGAGE_WEIGHT</th>\n",
       "      <th>WAIT_TIME</th>\n",
       "      <th>TRAFFIC_STUCK_TIME</th>\n",
       "      <th>DISTANCE</th>\n",
       "    </tr>\n",
       "  </thead>\n",
       "  <tbody>\n",
       "    <tr>\n",
       "      <th>0</th>\n",
       "      <td>28.666631</td>\n",
       "      <td>77.092389</td>\n",
       "      <td>28.642983</td>\n",
       "      <td>77.048942</td>\n",
       "      <td>17</td>\n",
       "      <td>15.441366</td>\n",
       "      <td>9.604112</td>\n",
       "      <td>10</td>\n",
       "      <td>17</td>\n",
       "    </tr>\n",
       "    <tr>\n",
       "      <th>1</th>\n",
       "      <td>12.863124</td>\n",
       "      <td>77.465198</td>\n",
       "      <td>12.983202</td>\n",
       "      <td>77.495464</td>\n",
       "      <td>17</td>\n",
       "      <td>15.441366</td>\n",
       "      <td>9.604112</td>\n",
       "      <td>28</td>\n",
       "      <td>27</td>\n",
       "    </tr>\n",
       "    <tr>\n",
       "      <th>2</th>\n",
       "      <td>19.203644</td>\n",
       "      <td>72.861170</td>\n",
       "      <td>19.161556</td>\n",
       "      <td>72.839699</td>\n",
       "      <td>14</td>\n",
       "      <td>15.441366</td>\n",
       "      <td>9.604112</td>\n",
       "      <td>34</td>\n",
       "      <td>45</td>\n",
       "    </tr>\n",
       "    <tr>\n",
       "      <th>3</th>\n",
       "      <td>28.668365</td>\n",
       "      <td>77.030327</td>\n",
       "      <td>28.705053</td>\n",
       "      <td>77.080778</td>\n",
       "      <td>7</td>\n",
       "      <td>15.441366</td>\n",
       "      <td>9.604112</td>\n",
       "      <td>17</td>\n",
       "      <td>14</td>\n",
       "    </tr>\n",
       "    <tr>\n",
       "      <th>4</th>\n",
       "      <td>13.050678</td>\n",
       "      <td>80.212654</td>\n",
       "      <td>13.118577</td>\n",
       "      <td>80.234702</td>\n",
       "      <td>9</td>\n",
       "      <td>15.441366</td>\n",
       "      <td>9.604112</td>\n",
       "      <td>9</td>\n",
       "      <td>10</td>\n",
       "    </tr>\n",
       "  </tbody>\n",
       "</table>\n",
       "</div>"
      ],
      "text/plain": [
       "   STARTING_LATITUDE  STARTING_LONGITUDE  DESTINATION_LATITUDE  \\\n",
       "0          28.666631           77.092389             28.642983   \n",
       "1          12.863124           77.465198             12.983202   \n",
       "2          19.203644           72.861170             19.161556   \n",
       "3          28.668365           77.030327             28.705053   \n",
       "4          13.050678           80.212654             13.118577   \n",
       "\n",
       "   DESTINATION_LONGITUDE  VEHICLE_TYPE  TOTAL_LUGGAGE_WEIGHT  WAIT_TIME  \\\n",
       "0              77.048942            17             15.441366   9.604112   \n",
       "1              77.495464            17             15.441366   9.604112   \n",
       "2              72.839699            14             15.441366   9.604112   \n",
       "3              77.080778             7             15.441366   9.604112   \n",
       "4              80.234702             9             15.441366   9.604112   \n",
       "\n",
       "   TRAFFIC_STUCK_TIME  DISTANCE  \n",
       "0                  10        17  \n",
       "1                  28        27  \n",
       "2                  34        45  \n",
       "3                  17        14  \n",
       "4                   9        10  "
      ]
     },
     "execution_count": 286,
     "metadata": {},
     "output_type": "execute_result"
    }
   ],
   "source": [
    "x11.head()"
   ]
  },
  {
   "cell_type": "code",
   "execution_count": 287,
   "metadata": {},
   "outputs": [
    {
     "data": {
      "text/plain": [
       "array([[  1.44670874e+00,  -5.26800018e-01,   1.44277001e+00, ...,\n",
       "          5.76841790e-16,  -9.15798059e-01,  -1.20376539e+00],\n",
       "       [ -1.23547120e+00,  -4.51704044e-01,  -1.21550135e+00, ...,\n",
       "          5.76841790e-16,  -7.41685964e-02,  -2.86327711e-01],\n",
       "       [ -1.59354640e-01,  -1.37910646e+00,  -1.66716472e-01, ...,\n",
       "          5.76841790e-16,   2.06374558e-01,   1.36506010e+00],\n",
       "       ..., \n",
       "       [ -1.20780250e+00,   9.46132306e-02,  -1.22122079e+00, ...,\n",
       "          5.76841790e-16,   6.61029807e-02,   2.64134894e-01],\n",
       "       [ -1.71678559e-01,  -1.37762311e+00,  -1.58484882e-01, ...,\n",
       "          5.76841790e-16,   1.46881875e+00,   1.45680387e+00],\n",
       "       [ -1.20966773e+00,   1.00351851e-01,  -1.23284724e+00, ...,\n",
       "          5.76841790e-16,  -5.41740520e-01,  -7.45046549e-01]])"
      ]
     },
     "execution_count": 287,
     "metadata": {},
     "output_type": "execute_result"
    }
   ],
   "source": [
    "from sklearn.preprocessing import StandardScaler,Normalizer\n",
    "scl=StandardScaler()\n",
    "\n",
    "x11=scl.fit_transform(x11)\n",
    "x11"
   ]
  },
  {
   "cell_type": "code",
   "execution_count": 253,
   "metadata": {},
   "outputs": [
    {
     "data": {
      "text/plain": [
       "(20000, 9)"
      ]
     },
     "execution_count": 253,
     "metadata": {},
     "output_type": "execute_result"
    }
   ],
   "source": [
    "\n",
    "x11.shape"
   ]
  },
  {
   "cell_type": "code",
   "execution_count": 362,
   "metadata": {},
   "outputs": [
    {
     "data": {
      "text/plain": [
       "array([  59.56346512,   32.73630524,  117.97338104, ...,   73.82238007,\n",
       "        238.2144165 ,  128.77302551], dtype=float32)"
      ]
     },
     "execution_count": 362,
     "metadata": {},
     "output_type": "execute_result"
    }
   ],
   "source": [
    "\n",
    "\n",
    "y_pred=xgb.predict(x11)\n",
    "y_pred\n"
   ]
  },
  {
   "cell_type": "code",
   "execution_count": 189,
   "metadata": {},
   "outputs": [
    {
     "data": {
      "text/html": [
       "<div>\n",
       "<style>\n",
       "    .dataframe thead tr:only-child th {\n",
       "        text-align: right;\n",
       "    }\n",
       "\n",
       "    .dataframe thead th {\n",
       "        text-align: left;\n",
       "    }\n",
       "\n",
       "    .dataframe tbody tr th {\n",
       "        vertical-align: top;\n",
       "    }\n",
       "</style>\n",
       "<table border=\"1\" class=\"dataframe\">\n",
       "  <thead>\n",
       "    <tr style=\"text-align: right;\">\n",
       "      <th></th>\n",
       "      <th>ID</th>\n",
       "      <th>FARE</th>\n",
       "    </tr>\n",
       "  </thead>\n",
       "  <tbody>\n",
       "    <tr>\n",
       "      <th>0</th>\n",
       "      <td>1</td>\n",
       "      <td>231.00</td>\n",
       "    </tr>\n",
       "    <tr>\n",
       "      <th>1</th>\n",
       "      <td>2</td>\n",
       "      <td>38.88</td>\n",
       "    </tr>\n",
       "    <tr>\n",
       "      <th>2</th>\n",
       "      <td>3</td>\n",
       "      <td>68.57</td>\n",
       "    </tr>\n",
       "    <tr>\n",
       "      <th>3</th>\n",
       "      <td>4</td>\n",
       "      <td>53.48</td>\n",
       "    </tr>\n",
       "    <tr>\n",
       "      <th>4</th>\n",
       "      <td>5</td>\n",
       "      <td>160.00</td>\n",
       "    </tr>\n",
       "  </tbody>\n",
       "</table>\n",
       "</div>"
      ],
      "text/plain": [
       "   ID    FARE\n",
       "0   1  231.00\n",
       "1   2   38.88\n",
       "2   3   68.57\n",
       "3   4   53.48\n",
       "4   5  160.00"
      ]
     },
     "execution_count": 189,
     "metadata": {},
     "output_type": "execute_result"
    }
   ],
   "source": [
    "############\n",
    "sub=pd.read_csv('intracity-fare-sample-submission.csv')\n",
    "sub.head()"
   ]
  },
  {
   "cell_type": "code",
   "execution_count": 292,
   "metadata": {},
   "outputs": [],
   "source": [
    "result=pd.DataFrame()\n",
    "result['ID']=Ids\n",
    "result['FARE']=y_pred\n",
    "result.to_csv('Submission_Ankit_Srivastava.csv',index=False)"
   ]
  },
  {
   "cell_type": "code",
   "execution_count": 293,
   "metadata": {},
   "outputs": [],
   "source": [
    "result.to_csv('Submission_Ankit_Srivastava.csv',index=False)\n"
   ]
  },
  {
   "cell_type": "code",
   "execution_count": null,
   "metadata": {},
   "outputs": [],
   "source": []
  },
  {
   "cell_type": "code",
   "execution_count": 294,
   "metadata": {},
   "outputs": [
    {
     "data": {
      "text/html": [
       "<div>\n",
       "<style>\n",
       "    .dataframe thead tr:only-child th {\n",
       "        text-align: right;\n",
       "    }\n",
       "\n",
       "    .dataframe thead th {\n",
       "        text-align: left;\n",
       "    }\n",
       "\n",
       "    .dataframe tbody tr th {\n",
       "        vertical-align: top;\n",
       "    }\n",
       "</style>\n",
       "<table border=\"1\" class=\"dataframe\">\n",
       "  <thead>\n",
       "    <tr style=\"text-align: right;\">\n",
       "      <th></th>\n",
       "      <th>ID</th>\n",
       "      <th>FARE</th>\n",
       "    </tr>\n",
       "  </thead>\n",
       "  <tbody>\n",
       "    <tr>\n",
       "      <th>0</th>\n",
       "      <td>1</td>\n",
       "      <td>67.557129</td>\n",
       "    </tr>\n",
       "    <tr>\n",
       "      <th>1</th>\n",
       "      <td>2</td>\n",
       "      <td>39.091732</td>\n",
       "    </tr>\n",
       "    <tr>\n",
       "      <th>2</th>\n",
       "      <td>3</td>\n",
       "      <td>116.715378</td>\n",
       "    </tr>\n",
       "    <tr>\n",
       "      <th>3</th>\n",
       "      <td>4</td>\n",
       "      <td>47.248512</td>\n",
       "    </tr>\n",
       "    <tr>\n",
       "      <th>4</th>\n",
       "      <td>5</td>\n",
       "      <td>65.884506</td>\n",
       "    </tr>\n",
       "  </tbody>\n",
       "</table>\n",
       "</div>"
      ],
      "text/plain": [
       "   ID        FARE\n",
       "0   1   67.557129\n",
       "1   2   39.091732\n",
       "2   3  116.715378\n",
       "3   4   47.248512\n",
       "4   5   65.884506"
      ]
     },
     "execution_count": 294,
     "metadata": {},
     "output_type": "execute_result"
    }
   ],
   "source": [
    "dfr=pd.read_csv('Submission_Ankit_Srivastava.csv',)\n",
    "dfr.head()"
   ]
  }
 ],
 "metadata": {
  "kernelspec": {
   "display_name": "Python 3",
   "language": "python",
   "name": "python3"
  },
  "language_info": {
   "codemirror_mode": {
    "name": "ipython",
    "version": 3
   },
   "file_extension": ".py",
   "mimetype": "text/x-python",
   "name": "python",
   "nbconvert_exporter": "python",
   "pygments_lexer": "ipython3",
   "version": "3.6.4"
  }
 },
 "nbformat": 4,
 "nbformat_minor": 2
}
